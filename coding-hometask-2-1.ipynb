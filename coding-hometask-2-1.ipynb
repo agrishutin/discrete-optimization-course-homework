{
 "cells": [
  {
   "cell_type": "markdown",
   "metadata": {
    "deletable": true,
    "editable": true
   },
   "source": [
    "# Задание по курсу «Дискретная оптимизация», МФТИ, весна 2017"
   ]
  },
  {
   "cell_type": "markdown",
   "metadata": {
    "deletable": true,
    "editable": true
   },
   "source": [
    "## Задача 2-1. Применяем простейший локальный поиск.\n",
    "\n",
    "В этой задаче Вам предлагается попробовать стандартную технику локального поиска (local search) в применении к задаче о сбалансированном разбиении графа. Мы будем рассматривать безвесовый вариант задачи с параметром балансировки $\\alpha=\\frac{1}{2}$:\n",
    "\n",
    "**Даны:**\n",
    "* $G=(V,E)$ — граф без весов на рёбрах\n",
    "\n",
    "**Найти:**\n",
    "* Разбиение $V=V'\\sqcup V''$, такое, что $V'=\\lfloor |V|/2 \\rfloor$ и число рёбер между $V'$ и $V''$ минимально возможное.\n",
    "\n",
    "Сделайте следующее:\n",
    "* [Скачайте](http://mat.gsia.cmu.edu/COLOR/instances.html#XXMYC) файлы mycielX.col  (`for X in range(1,8)`).  (Если интересно, откуда такие графы берутся и чем интересны, см. конструкцию Зыкова—Мыцельского [здесь](https://docs.com/dainiak/3327).)\n",
    "* Для каждого из графов найдите локальным поиском локально минимальное (по количеству рёбер между частями) разбиение вершин графа на две части, мощности которых отличаются не более чем на единицу. \n",
    "* Ваша функция `basic_local_search` должна принимать на вход граф в формате, предоставляемом функцией `read_col_file`, и возвращать найденное локально минимальное разбиение просто как множество либо список вершин, лежащих в одной любой из двух компонент разбиения."
   ]
  },
  {
   "cell_type": "code",
   "execution_count": 3,
   "metadata": {
    "collapsed": true,
    "deletable": true,
    "editable": true
   },
   "outputs": [],
   "source": [
    "def read_col_file(filename: str) -> tuple:\n",
    "    with open(filename, 'r') as file:\n",
    "        vertices, edges = set(), set()\n",
    "        for line in file:\n",
    "            line = line.strip()\n",
    "            if line.startswith('p'):\n",
    "                vertices = set(range(1, int(line.split()[-2]) + 1))\n",
    "            elif line.startswith('e'):\n",
    "                edges.add(tuple(map(int, line.split()[-2:])))\n",
    "        return (vertices, edges)"
   ]
  },
  {
   "cell_type": "code",
   "execution_count": 83,
   "metadata": {
    "collapsed": false,
    "deletable": true,
    "editable": true
   },
   "outputs": [],
   "source": [
    "import random\n",
    "\n",
    "def cut_cost(L: set, R: set, edges:set) -> int:\n",
    "        ans = 0\n",
    "        for edge in edges:\n",
    "            v1, v2 = edge\n",
    "            if (v1 in L and v2 in R) or (v1 in R and v2 in L):\n",
    "                ans += 1\n",
    "        return ans\n",
    "\n",
    "def random_partition(vertices):\n",
    "    L = set(random.sample(vertices, len(vertices) // 2))\n",
    "    R = vertices - L\n",
    "    \n",
    "    return (L, R)\n",
    "\n",
    "# в качестве 1-окрестности я рассматриваю разрезы\n",
    "# отличающиеся от текущего в не более чем в 2 вершинах\n",
    "# 2 -- если всего четное число вершин\n",
    "# 1 -- иначе\n",
    "def basic_local_search(graph: tuple) -> tuple:\n",
    "    \n",
    "    vertices, edges = graph\n",
    "    n = len(vertices)\n",
    "    L, R = random_partition(vertices)\n",
    "    cur_cut_cost = cut_cost(L, R, edges)\n",
    "    \n",
    "    max_iterations = min(n * n, 1000)\n",
    "    while True:\n",
    "#         print(cur_cut_cost, end=' ')\n",
    "        min_new_L = []\n",
    "        min_new_R = []\n",
    "        min_new_cut_cost = cur_cut_cost # типа бесконечность\n",
    "\n",
    "        if len(L) == len(R):\n",
    "            for v1 in L:\n",
    "                for v2 in R:\n",
    "                    L.remove(v1)\n",
    "                    R.remove(v2)\n",
    "                    L.add(v2)\n",
    "                    R.add(v1)\n",
    "                    \n",
    "                    # <=, потому что если есть разрез поменьше\n",
    "                    # то мы в итоге до него все равно дойдем\n",
    "                    # а если нет, то этот переход нам все равно ничего не испортит\n",
    "                    # а взамен мы, возможно, найдем через него разрез поменьше\n",
    "                    cur_cut_cost = cut_cost(L, R, edges)\n",
    "                    if cur_cut_cost <= min_new_cut_cost:\n",
    "                        min_new_L = L\n",
    "                        min_new_R = R\n",
    "                        min_new_cut_cost = cur_cut_cost\n",
    "                    \n",
    "                    L.remove(v2)\n",
    "                    R.remove(v1)\n",
    "                    L.add(v1)\n",
    "                    L.add(v2)\n",
    "        else:\n",
    "            # будем поддерживать |L| <= |R|\n",
    "            for v in R:\n",
    "                R.remove(v)\n",
    "                L.add(v)\n",
    "                \n",
    "                cur_cut_cost = cut_cost(L, R, edges)\n",
    "                if cur_cut_cost < min_new_cut_cost:\n",
    "                    min_new_L = L\n",
    "                    min_new_R = R\n",
    "                    min_new_cut_cost = cur_cut_cost\n",
    "                \n",
    "                L.remove(v)\n",
    "                R.add(v)\n",
    "        \n",
    "        if min_new_L == []:\n",
    "            return (L, R)\n",
    "        else:\n",
    "            L = min_new_L\n",
    "            R = min_new_R\n",
    "            if (len(L) > len(R)):\n",
    "                L, R = R, L\n",
    "            cur_cut_cost = min_new_cut_cost"
   ]
  },
  {
   "cell_type": "code",
   "execution_count": 79,
   "metadata": {
    "collapsed": false
   },
   "outputs": [],
   "source": [
    "# Запустите эту ячейку, чтобы скачать файлы с графами\n",
    "# Если все сломалось, пробуйте, пока не получится\n",
    "\n",
    "import urllib.request\n",
    "\n",
    "url_template = 'http://mat.gsia.cmu.edu/COLOR/instances/myciel{num}.col'\n",
    "\n",
    "\n",
    "for i in range(3, 8):\n",
    "    with open(\"myciel{num}.col\".format(num=i), \"w\") as file:\n",
    "        url = url_template.format(num=i)\n",
    "        response = urllib.request.urlopen(url)\n",
    "        print(response.read().decode('utf-8'), file=file)\n"
   ]
  },
  {
   "cell_type": "code",
   "execution_count": null,
   "metadata": {
    "collapsed": false
   },
   "outputs": [],
   "source": [
    "for i in range(3, 8):\n",
    "    print(\"Myciel{num}:\".format(num=i))\n",
    "    \n",
    "    vertices, edges = read_col_file('myciel{num}.col'.format(num=i))\n",
    "    L, R = basic_local_search((vertices, edges))\n",
    "    cut = cut_cost(L, R, edges)\n",
    "    \n",
    "    print(L, '\\n', R, '\\n', \"cut cost = \", cut, '\\n')"
   ]
  },
  {
   "cell_type": "code",
   "execution_count": null,
   "metadata": {
    "collapsed": true
   },
   "outputs": [],
   "source": []
  }
 ],
 "metadata": {
  "kernelspec": {
   "display_name": "Python 3",
   "language": "python",
   "name": "python3"
  },
  "language_info": {
   "codemirror_mode": {
    "name": "ipython",
    "version": 3
   },
   "file_extension": ".py",
   "mimetype": "text/x-python",
   "name": "python",
   "nbconvert_exporter": "python",
   "pygments_lexer": "ipython3",
   "version": "3.5.2"
  }
 },
 "nbformat": 4,
 "nbformat_minor": 2
}
