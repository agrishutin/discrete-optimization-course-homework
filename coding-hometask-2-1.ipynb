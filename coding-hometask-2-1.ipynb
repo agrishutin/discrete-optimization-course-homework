{
 "cells": [
  {
   "cell_type": "markdown",
   "metadata": {
    "deletable": true,
    "editable": true
   },
   "source": [
    "# Задание по курсу «Дискретная оптимизация», МФТИ, весна 2017"
   ]
  },
  {
   "cell_type": "markdown",
   "metadata": {
    "deletable": true,
    "editable": true
   },
   "source": [
    "## Задача 2-1. Применяем простейший локальный поиск.\n",
    "\n",
    "В этой задаче Вам предлагается попробовать стандартную технику локального поиска (local search) в применении к задаче о сбалансированном разбиении графа. Мы будем рассматривать безвесовый вариант задачи с параметром балансировки $\\alpha=\\frac{1}{2}$:\n",
    "\n",
    "**Даны:**\n",
    "* $G=(V,E)$ — граф без весов на рёбрах\n",
    "\n",
    "**Найти:**\n",
    "* Разбиение $V=V'\\sqcup V''$, такое, что $V'=\\lfloor |V|/2 \\rfloor$ и число рёбер между $V'$ и $V''$ минимально возможное.\n",
    "\n",
    "Сделайте следующее:\n",
    "* [Скачайте](http://mat.gsia.cmu.edu/COLOR/instances.html#XXMYC) файлы mycielX.col  (`for X in range(1,8)`).  (Если интересно, откуда такие графы берутся и чем интересны, см. конструкцию Зыкова—Мыцельского [здесь](https://docs.com/dainiak/3327).)\n",
    "* Для каждого из графов найдите локальным поиском локально минимальное (по количеству рёбер между частями) разбиение вершин графа на две части, мощности которых отличаются не более чем на единицу. \n",
    "* Ваша функция `basic_local_search` должна принимать на вход граф в формате, предоставляемом функцией `read_col_file`, и возвращать найденное локально минимальное разбиение просто как множество либо список вершин, лежащих в одной любой из двух компонент разбиения."
   ]
  },
  {
   "cell_type": "code",
   "execution_count": 3,
   "metadata": {
    "collapsed": true,
    "deletable": true,
    "editable": true
   },
   "outputs": [],
   "source": [
    "def read_col_file(filename: str) -> tuple:\n",
    "    with open(filename, 'r') as file:\n",
    "        vertices, edges = set(), set()\n",
    "        for line in file:\n",
    "            line = line.strip()\n",
    "            if line.startswith('p'):\n",
    "                vertices = set(range(1, int(line.split()[-2]) + 1))\n",
    "            elif line.startswith('e'):\n",
    "                edges.add(tuple(map(int, line.split()[-2:])))\n",
    "        return (vertices, edges)"
   ]
  },
  {
   "cell_type": "code",
   "execution_count": 125,
   "metadata": {
    "collapsed": false,
    "deletable": true,
    "editable": true
   },
   "outputs": [],
   "source": [
    "import random\n",
    "\n",
    "def cut_cost(L: set, R: set, edges:set) -> int:\n",
    "        ans = 0\n",
    "        for edge in edges:\n",
    "            v1, v2 = edge\n",
    "            if (v1 in L and v2 in R) or (v1 in R and v2 in L):\n",
    "                ans += 1\n",
    "        return ans\n",
    "\n",
    "def random_partition(vertices):\n",
    "    L = set(random.sample(vertices, len(vertices) // 2))\n",
    "    R = vertices - L\n",
    "    \n",
    "    return (L, R)\n",
    "\n",
    "def basic_local_search(graph: tuple) -> tuple:\n",
    "    \n",
    "    vertices, edges = graph\n",
    "    n = len(vertices)\n",
    "    L, R = random_partition(vertices)\n",
    "    cur_cut_cost = cut_cost(L, R, edges)\n",
    "    \n",
    "    while True:\n",
    "        min_new_L = []\n",
    "        min_new_R = []\n",
    "        min_new_cut_cost = cur_cut_cost\n",
    "\n",
    "        # перебираем 2 вершины, которые мы поменяем местами\n",
    "        for v1 in L:\n",
    "            for v2 in R:\n",
    "                new_L = L.copy()\n",
    "                new_R = R.copy()\n",
    "                \n",
    "                new_L.remove(v1)\n",
    "                new_R.remove(v2)\n",
    "                new_L.add(v2)\n",
    "                new_R.add(v1)\n",
    "                \n",
    "                cur_cut_cost = cut_cost(new_L, new_R, edges)\n",
    "                if cur_cut_cost < min_new_cut_cost:\n",
    "                    min_new_L = new_L\n",
    "                    min_new_R = new_R\n",
    "                    min_new_cut_cost = cur_cut_cost\n",
    "        \n",
    "        if min_new_L == []:\n",
    "            return (L, R)\n",
    "        else:\n",
    "            L = min_new_L\n",
    "            R = min_new_R\n",
    "            if (len(L) > len(R)):\n",
    "                L, R = R, L\n",
    "            cur_cut_cost = min_new_cut_cost"
   ]
  },
  {
   "cell_type": "code",
   "execution_count": 79,
   "metadata": {
    "collapsed": false,
    "deletable": true,
    "editable": true
   },
   "outputs": [],
   "source": [
    "# Запустите эту ячейку, чтобы скачать файлы с графами\n",
    "# Если все сломалось, пробуйте, пока не получится\n",
    "\n",
    "import urllib.request\n",
    "\n",
    "url_template = 'http://mat.gsia.cmu.edu/COLOR/instances/myciel{num}.col'\n",
    "\n",
    "\n",
    "for i in range(3, 8):\n",
    "    with open(\"myciel{num}.col\".format(num=i), \"w\") as file:\n",
    "        url = url_template.format(num=i)\n",
    "        response = urllib.request.urlopen(url)\n",
    "        print(response.read().decode('utf-8'), file=file)\n"
   ]
  },
  {
   "cell_type": "code",
   "execution_count": 128,
   "metadata": {
    "collapsed": false,
    "deletable": true,
    "editable": true
   },
   "outputs": [
    {
     "name": "stdout",
     "output_type": "stream",
     "text": [
      "Myciel3:\n",
      "{4, 6, 9, 10, 11} \n",
      " {1, 2, 3, 5, 7, 8} \n",
      " cut cost =  8 \n",
      "\n",
      "Myciel4:\n",
      "{2, 5, 8, 11, 14, 17, 18, 19, 20, 21, 23} \n",
      " {1, 3, 4, 6, 7, 9, 10, 12, 13, 15, 16, 22} \n",
      " cut cost =  28 \n",
      "\n",
      "Myciel5:\n",
      "{1, 4, 5, 6, 8, 9, 10, 11, 15, 17, 19, 20, 21, 25, 27, 28, 34, 36, 38, 39, 40, 43, 45} \n",
      " {2, 3, 7, 12, 13, 14, 16, 18, 22, 23, 24, 26, 29, 30, 31, 32, 33, 35, 37, 41, 42, 44, 46, 47} \n",
      " cut cost =  95 \n",
      "\n",
      "Myciel6:\n",
      "{1, 4, 9, 11, 12, 17, 18, 19, 20, 21, 23, 24, 34, 35, 39, 40, 41, 43, 44, 47, 51, 54, 56, 58, 64, 65, 67, 68, 70, 71, 72, 74, 75, 77, 79, 81, 82, 83, 85, 86, 87, 88, 89, 90, 91, 93, 95} \n",
      " {2, 3, 5, 6, 7, 8, 10, 13, 14, 15, 16, 22, 25, 26, 27, 28, 29, 30, 31, 32, 33, 36, 37, 38, 42, 45, 46, 48, 49, 50, 52, 53, 55, 57, 59, 60, 61, 62, 63, 66, 69, 73, 76, 78, 80, 84, 92, 94} \n",
      " cut cost =  293 \n",
      "\n",
      "Myciel7:\n",
      "{2, 5, 6, 7, 8, 10, 13, 23, 25, 28, 29, 30, 31, 33, 36, 37, 38, 39, 40, 41, 42, 43, 44, 45, 47, 50, 53, 55, 60, 61, 62, 64, 66, 67, 69, 71, 72, 73, 74, 76, 77, 78, 79, 80, 82, 83, 84, 85, 86, 87, 88, 89, 90, 91, 92, 95, 96, 97, 98, 99, 100, 101, 103, 106, 108, 109, 110, 117, 118, 131, 140, 142, 143, 145, 146, 150, 153, 156, 157, 161, 164, 165, 168, 173, 177, 178, 179, 180, 181, 182, 184, 185, 187, 189, 190} \n",
      " {1, 3, 4, 9, 11, 12, 14, 15, 16, 17, 18, 19, 20, 21, 22, 24, 26, 27, 32, 34, 35, 46, 48, 49, 51, 52, 54, 56, 57, 58, 59, 63, 65, 68, 70, 75, 81, 93, 94, 102, 104, 105, 107, 111, 112, 113, 114, 115, 116, 119, 120, 121, 122, 123, 124, 125, 126, 127, 128, 129, 130, 132, 133, 134, 135, 136, 137, 138, 139, 141, 144, 147, 148, 149, 151, 152, 154, 155, 158, 159, 160, 162, 163, 166, 167, 169, 170, 171, 172, 174, 175, 176, 183, 186, 188, 191} \n",
      " cut cost =  925 \n",
      "\n",
      "CPU times: user 2min 3s, sys: 80 ms, total: 2min 3s\n",
      "Wall time: 2min 3s\n"
     ]
    }
   ],
   "source": [
    "%%time\n",
    "for i in range(3, 8):\n",
    "    print(\"Myciel{num}:\".format(num=i))\n",
    "    \n",
    "    vertices, edges = read_col_file('myciel{num}.col'.format(num=i))\n",
    "    L, R = basic_local_search((vertices, edges))\n",
    "    cut = cut_cost(L, R, edges)\n",
    "    \n",
    "    print(L, '\\n', R, '\\n', \"cut cost = \", cut, '\\n')"
   ]
  },
  {
   "cell_type": "code",
   "execution_count": null,
   "metadata": {
    "collapsed": true,
    "deletable": true,
    "editable": true
   },
   "outputs": [],
   "source": []
  }
 ],
 "metadata": {
  "kernelspec": {
   "display_name": "Python 3",
   "language": "python",
   "name": "python3"
  },
  "language_info": {
   "codemirror_mode": {
    "name": "ipython",
    "version": 3
   },
   "file_extension": ".py",
   "mimetype": "text/x-python",
   "name": "python",
   "nbconvert_exporter": "python",
   "pygments_lexer": "ipython3",
   "version": "3.5.2"
  }
 },
 "nbformat": 4,
 "nbformat_minor": 2
}
