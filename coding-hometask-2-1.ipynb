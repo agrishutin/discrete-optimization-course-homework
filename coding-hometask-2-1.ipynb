{
 "cells": [
  {
   "cell_type": "markdown",
   "metadata": {
    "deletable": true,
    "editable": true
   },
   "source": [
    "# Задание по курсу «Дискретная оптимизация», МФТИ, весна 2017"
   ]
  },
  {
   "cell_type": "markdown",
   "metadata": {
    "deletable": true,
    "editable": true
   },
   "source": [
    "## Задача 2-1. Применяем простейший локальный поиск.\n",
    "\n",
    "В этой задаче Вам предлагается попробовать стандартную технику локального поиска (local search) в применении к задаче о сбалансированном разбиении графа. Мы будем рассматривать безвесовый вариант задачи с параметром балансировки $\\alpha=\\frac{1}{2}$:\n",
    "\n",
    "**Даны:**\n",
    "* $G=(V,E)$ — граф без весов на рёбрах\n",
    "\n",
    "**Найти:**\n",
    "* Разбиение $V=V'\\sqcup V''$, такое, что $V'=\\lfloor |V|/2 \\rfloor$ и число рёбер между $V'$ и $V''$ минимально возможное.\n",
    "\n",
    "Сделайте следующее:\n",
    "* [Скачайте](http://mat.gsia.cmu.edu/COLOR/instances.html#XXMYC) файлы mycielX.col  (`for X in range(1,8)`).  (Если интересно, откуда такие графы берутся и чем интересны, см. конструкцию Зыкова—Мыцельского [здесь](https://docs.com/dainiak/3327).)\n",
    "* Для каждого из графов найдите локальным поиском локально минимальное (по количеству рёбер между частями) разбиение вершин графа на две части, мощности которых отличаются не более чем на единицу. \n",
    "* Ваша функция `basic_local_search` должна принимать на вход граф в формате, предоставляемом функцией `read_col_file`, и возвращать найденное локально минимальное разбиение просто как множество либо список вершин, лежащих в одной любой из двух компонент разбиения."
   ]
  },
  {
   "cell_type": "code",
   "execution_count": 3,
   "metadata": {
    "collapsed": true,
    "deletable": true,
    "editable": true
   },
   "outputs": [],
   "source": [
    "def read_col_file(filename: str) -> tuple:\n",
    "    with open(filename, 'r') as file:\n",
    "        vertices, edges = set(), set()\n",
    "        for line in file:\n",
    "            line = line.strip()\n",
    "            if line.startswith('p'):\n",
    "                vertices = set(range(1, int(line.split()[-2]) + 1))\n",
    "            elif line.startswith('e'):\n",
    "                edges.add(tuple(map(int, line.split()[-2:])))\n",
    "        return (vertices, edges)"
   ]
  },
  {
   "cell_type": "code",
   "execution_count": 125,
   "metadata": {
    "collapsed": false,
    "deletable": true,
    "editable": true
   },
   "outputs": [],
   "source": [
    "import random\n",
    "\n",
    "def cut_cost(L: set, R: set, edges:set) -> int:\n",
    "        ans = 0\n",
    "        for edge in edges:\n",
    "            v1, v2 = edge\n",
    "            if (v1 in L and v2 in R) or (v1 in R and v2 in L):\n",
    "                ans += 1\n",
    "        return ans\n",
    "\n",
    "def random_partition(vertices):\n",
    "    L = set(random.sample(vertices, len(vertices) // 2))\n",
    "    R = vertices - L\n",
    "    \n",
    "    return (L, R)\n",
    "\n",
    "# в качестве 1-окрестности я рассматриваю разрезы\n",
    "# отличающиеся от текущего в не более чем в 2 вершинах\n",
    "# 2 -- если всего четное число вершин\n",
    "# 1 -- иначе\n",
    "def basic_local_search(graph: tuple) -> tuple:\n",
    "    \n",
    "    vertices, edges = graph\n",
    "    n = len(vertices)\n",
    "    L, R = random_partition(vertices)\n",
    "    cur_cut_cost = cut_cost(L, R, edges)\n",
    "    \n",
    "    while True:\n",
    "        min_new_L = []\n",
    "        min_new_R = []\n",
    "        min_new_cut_cost = cur_cut_cost\n",
    "\n",
    "        # перебираем 2 вершины, которые мы поменяем местами\n",
    "        for v1 in L:\n",
    "            for v2 in R:\n",
    "                new_L = L.copy()\n",
    "                new_R = R.copy()\n",
    "                \n",
    "                new_L.remove(v1)\n",
    "                new_R.remove(v2)\n",
    "                new_L.add(v2)\n",
    "                new_R.add(v1)\n",
    "                \n",
    "                cur_cut_cost = cut_cost(new_L, new_R, edges)\n",
    "                if cur_cut_cost < min_new_cut_cost:\n",
    "                    min_new_L = new_L\n",
    "                    min_new_R = new_R\n",
    "                    min_new_cut_cost = cur_cut_cost\n",
    "        \n",
    "        if min_new_L == []:\n",
    "            return (L, R)\n",
    "        else:\n",
    "            L = min_new_L\n",
    "            R = min_new_R\n",
    "            if (len(L) > len(R)):\n",
    "                L, R = R, L\n",
    "            cur_cut_cost = min_new_cut_cost"
   ]
  },
  {
   "cell_type": "code",
   "execution_count": 79,
   "metadata": {
    "collapsed": false,
    "deletable": true,
    "editable": true
   },
   "outputs": [],
   "source": [
    "# Запустите эту ячейку, чтобы скачать файлы с графами\n",
    "# Если все сломалось, пробуйте, пока не получится\n",
    "\n",
    "import urllib.request\n",
    "\n",
    "url_template = 'http://mat.gsia.cmu.edu/COLOR/instances/myciel{num}.col'\n",
    "\n",
    "\n",
    "for i in range(3, 8):\n",
    "    with open(\"myciel{num}.col\".format(num=i), \"w\") as file:\n",
    "        url = url_template.format(num=i)\n",
    "        response = urllib.request.urlopen(url)\n",
    "        print(response.read().decode('utf-8'), file=file)\n"
   ]
  },
  {
   "cell_type": "code",
   "execution_count": 126,
   "metadata": {
    "collapsed": false,
    "deletable": true,
    "editable": true
   },
   "outputs": [
    {
     "name": "stdout",
     "output_type": "stream",
     "text": [
      "Myciel3:\n",
      "{1, 6, 7, 9, 11} \n",
      " {2, 3, 4, 5, 8, 10} \n",
      " cut cost =  8 \n",
      "\n",
      "Myciel4:\n",
      "{1, 6, 8, 9, 13, 15, 16, 18, 20, 22, 23} \n",
      " {2, 3, 4, 5, 7, 10, 11, 12, 14, 17, 19, 21} \n",
      " cut cost =  28 \n",
      "\n",
      "Myciel5:\n",
      "{3, 4, 6, 7, 8, 9, 10, 13, 16, 18, 21, 22, 23, 24, 26, 34, 35, 36, 37, 38, 39, 44, 45} \n",
      " {1, 2, 5, 11, 12, 14, 15, 17, 19, 20, 25, 27, 28, 29, 30, 31, 32, 33, 40, 41, 42, 43, 46, 47} \n",
      " cut cost =  93 \n",
      "\n",
      "Myciel6:\n",
      "{2, 4, 5, 8, 9, 15, 19, 20, 23, 24, 28, 29, 31, 35, 37, 40, 42, 46, 47, 49, 52, 59, 60, 61, 62, 63, 64, 66, 67, 69, 71, 75, 76, 78, 80, 81, 82, 83, 84, 85, 86, 87, 89, 90, 91, 92, 95} \n",
      " {1, 3, 6, 7, 10, 11, 12, 13, 14, 16, 17, 18, 21, 22, 25, 26, 27, 30, 32, 33, 34, 36, 38, 39, 41, 43, 44, 45, 48, 50, 51, 53, 54, 55, 56, 57, 58, 65, 68, 70, 72, 73, 74, 77, 79, 88, 93, 94} \n",
      " cut cost =  295 \n",
      "\n",
      "Myciel7:\n",
      "{1, 3, 6, 8, 9, 12, 16, 22, 25, 27, 30, 31, 32, 36, 38, 39, 41, 43, 45, 47, 48, 50, 53, 55, 56, 59, 60, 61, 63, 64, 69, 72, 73, 74, 76, 77, 78, 79, 80, 81, 82, 83, 84, 85, 86, 87, 88, 89, 90, 91, 92, 95, 96, 97, 100, 101, 102, 103, 104, 105, 106, 108, 111, 117, 118, 120, 122, 125, 127, 131, 134, 136, 142, 143, 147, 148, 150, 151, 154, 155, 158, 164, 167, 169, 170, 172, 174, 178, 180, 181, 183, 186, 187, 189, 190} \n",
      " {2, 4, 5, 7, 10, 11, 13, 14, 15, 17, 18, 19, 20, 21, 23, 24, 26, 28, 29, 33, 34, 35, 37, 40, 42, 44, 46, 49, 51, 52, 54, 57, 58, 62, 65, 66, 67, 68, 70, 71, 75, 93, 94, 98, 99, 107, 109, 110, 112, 113, 114, 115, 116, 119, 121, 123, 124, 126, 128, 129, 130, 132, 133, 135, 137, 138, 139, 140, 141, 144, 145, 146, 149, 152, 153, 156, 157, 159, 160, 161, 162, 163, 165, 166, 168, 171, 173, 175, 176, 177, 179, 182, 184, 185, 188, 191} \n",
      " cut cost =  932 \n",
      "\n"
     ]
    }
   ],
   "source": [
    "for i in range(3, 8):\n",
    "    print(\"Myciel{num}:\".format(num=i))\n",
    "    \n",
    "    vertices, edges = read_col_file('myciel{num}.col'.format(num=i))\n",
    "    L, R = basic_local_search((vertices, edges))\n",
    "    cut = cut_cost(L, R, edges)\n",
    "    \n",
    "    print(L, '\\n', R, '\\n', \"cut cost = \", cut, '\\n')"
   ]
  },
  {
   "cell_type": "code",
   "execution_count": null,
   "metadata": {
    "collapsed": true,
    "deletable": true,
    "editable": true
   },
   "outputs": [],
   "source": []
  }
 ],
 "metadata": {
  "kernelspec": {
   "display_name": "Python 3",
   "language": "python",
   "name": "python3"
  },
  "language_info": {
   "codemirror_mode": {
    "name": "ipython",
    "version": 3
   },
   "file_extension": ".py",
   "mimetype": "text/x-python",
   "name": "python",
   "nbconvert_exporter": "python",
   "pygments_lexer": "ipython3",
   "version": "3.5.2"
  }
 },
 "nbformat": 4,
 "nbformat_minor": 2
}
