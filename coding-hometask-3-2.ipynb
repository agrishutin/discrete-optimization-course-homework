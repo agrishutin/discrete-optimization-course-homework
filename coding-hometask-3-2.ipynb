{
 "cells": [
  {
   "cell_type": "markdown",
   "metadata": {
    "collapsed": true,
    "deletable": true,
    "editable": true
   },
   "source": [
    "## Задача 3-2. Задача TSP: нижняя оценка Гельда—Карпа.\n",
    "\n",
    "В этой задаче Вам предлагается релизовать алгоритм Гельда—Карпа для нижней оценки стоимости решения в задаче Euclidean TSP.\n",
    "\n",
    "Сделайте следующее:\n",
    "* Скачайте файл [`tsp-instances.zip`](https://github.com/dainiak/discrete-optimization-course/raw/master/tsp-instances.zip) и разархивируйте из него файлы со входами задачи TSP. Это в точности те же входные данные, что и в задании 3-1.\n",
    "* Реализуйте функцию `lower_bound_tsp`. При этом можно пользоваться каким-нибудь стандартным алгоритмом построения минимального остовного дерева из библиотеки [`networkx`](https://networkx.github.io/), входящей в состав дистрибутива Anaconda.\n",
    "* Запустите функцию `run_all()`, чтобы протестировать свой код, и напишите полученные, как следствия, верхние оценки погрешностей решений, которые были получены Вашими алгоритмами NN и NI при решении задания 3-1. Запишите свои выводы в 1-2 предложениях в последней ячейке ipynb-файла."
   ]
  },
  {
   "cell_type": "code",
   "execution_count": 1,
   "metadata": {
    "collapsed": true
   },
   "outputs": [],
   "source": [
    "from typing import List, Tuple\n",
    "from math import sqrt, inf\n",
    "from itertools import combinations, islice\n",
    "\n",
    "import networkx as nx\n",
    "\n",
    "Point = Tuple[int, int]"
   ]
  },
  {
   "cell_type": "code",
   "execution_count": 2,
   "metadata": {
    "collapsed": true,
    "deletable": true,
    "editable": true
   },
   "outputs": [],
   "source": [
    "def read_tsp_instance(filename: str) -> List[Point]:\n",
    "    with open(filename, 'r') as file:\n",
    "        coordinates = []\n",
    "        for line in file:\n",
    "            line = line.strip().lower()\n",
    "            if line.startswith('dimension'):\n",
    "                coordinates = [(0, 0)] * int(line.split()[-1])\n",
    "            tokens = line.split()\n",
    "            if len(tokens) == 3 and tokens[0].isdecimal():\n",
    "                tokens = line.split()\n",
    "                coordinates[int(tokens[0])-1] = tuple(map(float, tokens[1:]))\n",
    "        return coordinates\n",
    "\n",
    "\n",
    "def euclidean_distance(point1: Point, point2: Point) -> float:\n",
    "    return sqrt((point1[0]-point2[0]) ** 2 + (point1[1]-point2[1]) ** 2)"
   ]
  },
  {
   "cell_type": "code",
   "execution_count": 19,
   "metadata": {
    "collapsed": true
   },
   "outputs": [],
   "source": [
    "def full_euclidean_graph(vertex_coordinates: List[Point]):\n",
    "    graph = nx.Graph()\n",
    "    \n",
    "    for v in vertex_coordinates:\n",
    "        graph.add_node(v)\n",
    "    \n",
    "    for v1, v2 in combinations(vertex_coordinates, 2):\n",
    "        graph.add_edge(v1, v2, weight=euclidean_distance(v1, v2))\n",
    "    \n",
    "    return graph\n",
    "\n",
    "def graph_weight(g: nx.Graph) -> float:\n",
    "    return sum([edge['weight'] for edge in g.edges(data=True)])\n",
    "\n",
    "def tree_is_route(g: nx.Graph) -> bool:\n",
    "    degrees = nx.degree(g)\n",
    "    n = g.number_of_nodes()\n",
    "    return all([degrees[v] <= 2 for v in degrees]) and (sum(degrees.values()) == (2 * (n - 2) + 1 + 1))\n"
   ]
  },
  {
   "cell_type": "code",
   "execution_count": 97,
   "metadata": {
    "collapsed": false,
    "deletable": true,
    "editable": true
   },
   "outputs": [],
   "source": [
    "def lower_bound_tsp(vertex_coordinates: List[Point]) -> float:\n",
    "    g = full_euclidean_graph(vertex_coordinates)\n",
    "    \n",
    "    some_traversal = list(g.nodes())\n",
    "    some_traversal.append(some_traversal[0])\n",
    "    \n",
    "    # some upper bound for tour length\n",
    "    U = sum(g[some_traversal[i]][some_traversal[i + 1]]['weight'] for i in range(len(some_traversal) - 1))\n",
    "    \n",
    "    y = {v: 0 for v in g.nodes()}\n",
    "    best_held_carp_bound = -float('inf')\n",
    "    t_lowest = 0.0001\n",
    "    alpha = 2\n",
    "    beta = 2 / 3\n",
    "    iterations_factor = 0.015\n",
    "    \n",
    "    max_changes = 100\n",
    "    num_iterations = int(g.number_of_nodes() * iterations_factor)\n",
    "    \n",
    "    for i in range(max_changes):\n",
    "        for k in range(num_iterations):\n",
    "            for v1, v2 in combinations(g.nodes(), 2):\n",
    "                g[v1][v2]['weight'] = g[v1][v2]['weight'] - y[v1] - y[v2]\n",
    "            \n",
    "            optimal = False\n",
    "            v1 = g.nodes()[0]\n",
    "            v1_edges = g[v1]\n",
    "            g.remove_node(v1)\n",
    "            rest_mst = nx.minimum_spanning_tree(g)\n",
    "            \n",
    "            g.add_node(v1)\n",
    "            for v1_incident in v1_edges:\n",
    "                g.add_edge(v1, v1_incident, weight=v1_edges[v1_incident]['weight'])\n",
    "            \n",
    "            rest_mst.add_node(v1)\n",
    "            sorted_by_distance = sorted(rest_mst.nodes(), key=lambda v: euclidean_distance(v, v1))\n",
    "            v_e = sorted_by_distance[1]\n",
    "            v_f = sorted_by_distance[2]\n",
    "\n",
    "            if rest_mst.degree(v_e) == 1 and rest_mst.degree(v_f) == 1:\n",
    "                optimal = True\n",
    "\n",
    "            rest_mst.add_edge(v1, v_e, weight=g[v1][v_e]['weight'])\n",
    "            rest_mst.add_edge(v1, v_f, weight=g[v1][v_f]['weight'])\n",
    "            \n",
    "            assert rest_mst.number_of_edges() == g.number_of_nodes()\n",
    "            \n",
    "            held_carp_bound = sum([edge[2]['weight'] for edge in rest_mst.edges(data=True)])\n",
    "            \n",
    "            best_held_carp_bound = max(best_held_carp_bound, held_carp_bound)\n",
    "            if optimal:\n",
    "                print (\"ОПТИМАЛЬНЕНЬКО\")\n",
    "                return best_held_carp_bound + 2 * sum((y[v] for v in g.nodes()))\n",
    "            \n",
    "            t_cur = alpha*(U-held_carp_bound) / sum([(2-rest_mst.degree(v))**2 for v in rest_mst.nodes()])\n",
    "            if t_cur < t_lowest:\n",
    "                return best_held_carp_bound + 2 * sum((y[v] for v in g.nodes()))\n",
    "            \n",
    "            for v1, v2 in combinations(g.nodes(), 2):\n",
    "                g[v1][v2]['weight'] = g[v1][v2]['weight'] + y[v1] + y[v2]\n",
    "                        \n",
    "            for v in g.nodes():\n",
    "                y[v] = y[v] + t_cur * (2 - rest_mst.degree(v))\n",
    "            \n",
    "            alpha = alpha * beta\n",
    "    \n",
    "    return best_held_carp_bound + 2 * sum((y[v] for v in g.nodes()))"
   ]
  },
  {
   "cell_type": "code",
   "execution_count": 98,
   "metadata": {
    "collapsed": true,
    "deletable": true,
    "editable": true
   },
   "outputs": [],
   "source": [
    "import time\n",
    "from os.path import exists\n",
    "\n",
    "def run_all():\n",
    "    instance_filenames = ['d198.tsp', 'd493.tsp', 'd657.tsp', 'd2103.tsp', 'pr107.tsp', 'pr152.tsp', 'pr439.tsp']\n",
    "    for filename in instance_filenames:\n",
    "        if not exists(filename):\n",
    "            print('File not found: “{}”. Skipping this instance.'.format(filename))\n",
    "            continue\n",
    "        instance = read_tsp_instance(filename)\n",
    "        print('Instance {}…'.format(filename), end='\\n')\n",
    "        time_start = time.monotonic()\n",
    "        bound = lower_bound_tsp(instance)\n",
    "        time_nn = time.monotonic()-time_start\n",
    "        print(' done in {:.2} seconds with lower bound {}'.format(time_nn, int(bound)))"
   ]
  },
  {
   "cell_type": "code",
   "execution_count": 99,
   "metadata": {
    "collapsed": false,
    "deletable": true,
    "editable": true
   },
   "outputs": [
    {
     "name": "stdout",
     "output_type": "stream",
     "text": [
      "Instance d198.tsp…\n",
      "ОПТИМАЛЬНЕНЬКО\n",
      " done in 0.36 seconds with lower bound 11831\n",
      "Instance d493.tsp…\n",
      "ОПТИМАЛЬНЕНЬКО\n",
      " done in 2.0 seconds with lower bound 29406\n",
      "Instance d657.tsp…\n",
      "ОПТИМАЛЬНЕНЬКО\n",
      " done in 3.7 seconds with lower bound 42589\n",
      "Instance d2103.tsp…\n",
      "ОПТИМАЛЬНЕНЬКО\n",
      " done in 2.4e+01 seconds with lower bound 76351\n",
      "Instance pr107.tsp…\n",
      "ОПТИМАЛЬНЕНЬКО\n",
      " done in 0.076 seconds with lower bound 35090\n",
      "Instance pr152.tsp…\n",
      "ОПТИМАЛЬНЕНЬКО\n",
      " done in 0.15 seconds with lower bound 59528\n",
      "Instance pr439.tsp…\n",
      "ОПТИМАЛЬНЕНЬКО\n",
      " done in 1.4 seconds with lower bound 92429\n"
     ]
    }
   ],
   "source": [
    "run_all()"
   ]
  },
  {
   "cell_type": "markdown",
   "metadata": {
    "deletable": true,
    "editable": true
   },
   "source": [
    "## Выводы\n",
    "\n",
    "Получили\n",
    "\n",
    "| Тип                          \t| d198  \t| d493  \t| d657  \t| d2103 \t| pr107 \t| pr152 \t| pr439  \t|\n",
    "|------------------------------\t|-------\t|-------\t|-------\t|-------\t|-------\t|-------\t|--------\t|\n",
    "| HK                           \t| 11831 \t| 29406 \t| 42589 \t| 76351 \t| 35090 \t| 59528 \t| 92429  \t|\n",
    "| NI                           \t| 17631 \t| 39982 \t| 57906 \t| 87570 \t| 52587 \t| 88530 \t| 130067 \t|\n",
    "| Абсолютная погрешность NI    \t| 49.02 \t| 35.97 \t| 35.96 \t| 14.69 \t| 49.86 \t| 48.72 \t| 40.72  \t|\n",
    "| Относительная погрешность NI \t| 1.49  \t| 1.36  \t| 1.36  \t| 1.15  \t| 1.5   \t| 1.49  \t| 1.41   \t|\n",
    "| NN                           \t| 18620 \t| 43646 \t| 62176 \t| 87468 \t| 46678 \t| 85702 \t| 131282 \t|\n",
    "| Абсолютная погрешность NN    \t| 57.38 \t| 48.43 \t| 45.99 \t| 14.56 \t| 33.02 \t| 43.97 \t| 42.04  \t|\n",
    "| Относительная погрешность NN \t| 1.57  \t| 1.48  \t| 1.46  \t| 1.15  \t| 1.33  \t| 1.44  \t| 1.42   \t|"
   ]
  }
 ],
 "metadata": {
  "kernelspec": {
   "display_name": "Python 3",
   "language": "python",
   "name": "python3"
  },
  "language_info": {
   "codemirror_mode": {
    "name": "ipython",
    "version": 3
   },
   "file_extension": ".py",
   "mimetype": "text/x-python",
   "name": "python",
   "nbconvert_exporter": "python",
   "pygments_lexer": "ipython3",
   "version": "3.5.2"
  }
 },
 "nbformat": 4,
 "nbformat_minor": 1
}
