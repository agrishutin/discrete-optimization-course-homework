{
 "cells": [
  {
   "cell_type": "markdown",
   "metadata": {
    "deletable": true,
    "editable": true
   },
   "source": [
    "# Задание по курсу «Дискретная оптимизация», МФТИ, весна 2017"
   ]
  },
  {
   "cell_type": "markdown",
   "metadata": {
    "deletable": true,
    "editable": true
   },
   "source": [
    "## Задача 1-1\n",
    "## Bin packing problem: \n",
    "## Даны: \n",
    "* $[w_1, \\dots , w_k], w_i \\in [0, 1]$ — веса грузов  \n",
    "* $n_{bins}$ — количество корзин грузоподъемностью 1.\n",
    "\n",
    "Предполагается, что функция `solve_bp_decision(weights, n_bins)` решает «распознавательный» (decision) вариант задачи bin packing. На вход ей подаётся список весов и число корзин. Функция возвращает булевский ответ на вопрос «можно ли заданные веса раскидать по не более чем `n_bins` контейнерам? Напишите содержимое функции `solve_bp_evaluation`, которая возвращает оптимальное число корзин (решает evaluation variant задачи bin packing) и затем содержимое функции `solve_bp_search`, которая возвращает список номеров корзин, которые при каком-нибудь оптимальном распределении присваиваются весам из списка `weights` (корзины нумеруются с единицы). Каждая из следующих функций должна вызывать предыдущую не более чем полиномиальное число раз."
   ]
  },
  {
   "cell_type": "code",
   "execution_count": 33,
   "metadata": {
    "collapsed": false,
    "deletable": true,
    "editable": true
   },
   "outputs": [],
   "source": [
    "def able_to_pack(weights: list, bin_capacities) -> bool:\n",
    "        return weights == [] or any( \n",
    "            able_to_pack(weights[:-1], bin_capacities[:i] + [capacity - weights[-1]] + bin_capacities[(i + 1):] ) \n",
    "            for i, capacity in enumerate(bin_capacities) if capacity >= weights[-1] \n",
    "        )\n",
    "\n",
    "\n",
    "def solve_bp_decision(weights: list, n_bins: int) -> bool:\n",
    "    \n",
    "    if any(weight > 1 for weight in weights):\n",
    "        return False\n",
    "    \n",
    "    return able_to_pack(sorted(weights), [1.0] * n_bins)\n",
    "\n",
    "\n",
    "def solve_bp_evaluation(weights: list) -> int:\n",
    "    assert all(0 <= weight <= 1 for weight in weights)\n",
    "    lower_bound = 0  # недостижимо\n",
    "    upper_bound = len(weights)  # достижимо\n",
    "    \n",
    "    while upper_bound - lower_bound > 1:\n",
    "        mid = (upper_bound + lower_bound) // 2\n",
    "        if solve_bp_decision(weights, mid):\n",
    "            upper_bound = mid\n",
    "        else:\n",
    "            lower_bound = mid\n",
    "    return upper_bound\n",
    "\n",
    "\n",
    "# returns number of corresponding bin\n",
    "# for each weight in input in same order\n",
    "# e.g. [0.8, 0.09, 0.4, 0.7] -> [1,  2,  2, 3]\n",
    "def solve_bp_search(weights: list) -> list:\n",
    "    optimal_ans = solve_bp_evaluation(weights)\n",
    "    n = len(weights)\n",
    "    \n",
    "    ans = []\n",
    "    capacities = [1.0] * optimal_ans\n",
    "    for cur_w in range(n):\n",
    "        for bin_i in range(n):\n",
    "            if capacities[bin_i] >= weights[cur_w]:\n",
    "                capacities[bin_i] -= weights[cur_w]\n",
    "                if able_to_pack(weights[cur_w + 1:], capacities):\n",
    "                    ans.append(bin_i + 1)\n",
    "                    break\n",
    "                else:\n",
    "                    capacities[bin_i] += weights[cur_w]\n",
    "\n",
    "    return ans"
   ]
  },
  {
   "cell_type": "code",
   "execution_count": 32,
   "metadata": {},
   "outputs": [
    {
     "name": "stderr",
     "output_type": "stream",
     "text": [
      "."
     ]
    },
    {
     "name": "stderr",
     "output_type": "stream",
     "text": [
      "."
     ]
    },
    {
     "name": "stderr",
     "output_type": "stream",
     "text": [
      "."
     ]
    },
    {
     "name": "stderr",
     "output_type": "stream",
     "text": [
      "."
     ]
    },
    {
     "name": "stderr",
     "output_type": "stream",
     "text": [
      "."
     ]
    },
    {
     "name": "stderr",
     "output_type": "stream",
     "text": [
      "\n----------------------------------------------------------------------\nRan 5 tests in 0.005s\n\nOK\n"
     ]
    },
    {
     "data": {
      "text/plain": [
       "<unittest.main.TestProgram at 0x7f158819a518>"
      ]
     },
     "execution_count": 32,
     "metadata": {},
     "output_type": "execute_result"
    }
   ],
   "source": [
    "import unittest\n",
    "\n",
    "\n",
    "class TestBinPackingSolutions(unittest.TestCase):\n",
    "\n",
    "    def test_decision_1(self):\n",
    "        weights = [0.8, 0.09, 0.4, 0.7]\n",
    "        self.assertTrue(solve_bp_decision(weights, 3))\n",
    "\n",
    "    def test_decision_2(self):\n",
    "        weights = [0.8, 0.09, 0.4, 0.7]\n",
    "        self.assertFalse(solve_bp_decision(weights, 2))\n",
    "\n",
    "    def test_evaluation_1(self):\n",
    "        weights = [0.8, 0.09, 0.4, 0.7]\n",
    "        self.assertEqual(solve_bp_evaluation(weights), 3)\n",
    "    \n",
    "    def test_evalutation_2(self):\n",
    "        weights = [0.3000000001, 0.95, 0.06, 0.7, 0.8]\n",
    "        self.assertEqual(solve_bp_evaluation(weights), 4)\n",
    "\n",
    "    def test_search(self):\n",
    "        test_cases = [[0.8, 0.09, 0.4, 0.7],\n",
    "                      [1, 1, 1, 1, 0, 0, 0],\n",
    "                      [0.01, 0.8, 0.19]]\n",
    "        for subtest_i, weights in enumerate(test_cases):\n",
    "            with self.subTest(i=subtest_i):\n",
    "                optimal_bin_n = solve_bp_evaluation(weights)\n",
    "                solution = solve_bp_search(weights)\n",
    "                \n",
    "                self.assertTrue(all(1 <= bin_num <= optimal_bin_n for bin_num in solution), \n",
    "                                \"too many bins\")\n",
    "                \n",
    "                bin_weights = [0] * optimal_bin_n\n",
    "                for i in range(optimal_bin_n):\n",
    "                    bin_weights[solution[i] - 1] += weights[i]\n",
    "                \n",
    "                self.assertTrue(all(0 <= total_weight <= 1 for total_weight in bin_weights),\n",
    "                                \"incorrect packing\")\n",
    "\n",
    "unittest.main(argv=['first-arg-is-ignored'], exit=False)"
   ]
  },
  {
   "cell_type": "code",
   "execution_count": null,
   "metadata": {
    "collapsed": true,
    "deletable": true,
    "editable": true
   },
   "outputs": [],
   "source": [
    ""
   ]
  }
 ],
 "metadata": {
  "kernelspec": {
   "display_name": "Python 3",
   "language": "python",
   "name": "python3"
  },
  "language_info": {
   "codemirror_mode": {
    "name": "ipython",
    "version": 3.0
   },
   "file_extension": ".py",
   "mimetype": "text/x-python",
   "name": "python",
   "nbconvert_exporter": "python",
   "pygments_lexer": "ipython3",
   "version": "3.5.2"
  }
 },
 "nbformat": 4,
 "nbformat_minor": 0
}