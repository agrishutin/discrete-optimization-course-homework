{
 "cells": [
  {
   "cell_type": "markdown",
   "metadata": {
    "deletable": true,
    "editable": true
   },
   "source": [
    "# Задание по курсу «Дискретная оптимизация», МФТИ, весна 2017"
   ]
  },
  {
   "cell_type": "markdown",
   "metadata": {
    "collapsed": true,
    "deletable": true,
    "editable": true
   },
   "source": [
    "## Задача 3-1. Задача TSP: инкрементальные алгоритмы.\n",
    "\n",
    "В этой задаче Вам предлагается сравнить алгоритмы Nearest Neighbour и Nearest Insertion в задаче Euclidean TSP.\n",
    "\n",
    "**Даны:**\n",
    "* Координаты точек плоскости, являющихся вершинами графа.\n",
    "\n",
    "**Найти:**\n",
    "* Перестановку вершин, задающих минимальный по длине гамильтонов цикл в графе.\n",
    "\n",
    "Сделайте следующее:\n",
    "* Скачайте файл [`tsp-instances.zip`](https://github.com/dainiak/discrete-optimization-course/raw/master/tsp-instances.zip) и разархивируйте из него файлы со входами задачи TSP.\n",
    "* Реализуйте функции `solve_tsp_nearest_neighbour` и `solve_tsp_nearest_insertion`.\n",
    "* Запустите функцию `run_all()`, чтобы протестировать свой код и сравнить качество решений, получаемых Nearest Neighbour и Nearest Insertion. Сильно ли они отличаются? Запишите свои качественные выводы в 1-2 предложениях в последней ячейке ipynb-файла."
   ]
  },
  {
   "cell_type": "code",
   "execution_count": 23,
   "metadata": {
    "collapsed": true,
    "deletable": true,
    "editable": true
   },
   "outputs": [],
   "source": [
    "import time\n",
    "import os\n",
    "import math\n",
    "\n",
    "import numpy as np\n",
    "\n",
    "def cool_argmin(array):\n",
    "    return np.unravel_index(np.argmin(array), array.shape)"
   ]
  },
  {
   "cell_type": "code",
   "execution_count": 7,
   "metadata": {
    "collapsed": false,
    "deletable": true,
    "editable": true
   },
   "outputs": [],
   "source": [
    "def read_tsp_instance(path: str) -> list:\n",
    "    with open(path, 'r') as file:\n",
    "        coordinates = []\n",
    "        for line in file:\n",
    "            line = line.strip().lower()\n",
    "            if line.startswith('dimension'):\n",
    "                coordinates = [(0,0)] * int(line.split()[-1])\n",
    "            tokens = line.split()\n",
    "            if len(tokens) == 3 and tokens[0].isdecimal():\n",
    "                tokens = line.split()\n",
    "                coordinates[int(tokens[0])-1] = tuple(map(float, tokens[1:]))\n",
    "        return coordinates\n",
    "\n",
    "def euclidean_distance(point1: tuple, point2: tuple) -> float:\n",
    "    if len(point1) != len(point2):\n",
    "        raise ValueError(\"Points must have equal dimensions\")\n",
    "    \n",
    "    distance = 0\n",
    "    for j in range(len(point1)):\n",
    "        distance += (point1[j] - point2[j]) ** 2\n",
    "    return math.sqrt(distance)\n",
    "\n",
    "def calculate_tour_length(instance, permutation):\n",
    "    assert(len(instance) == len(permutation))\n",
    "    \n",
    "    n = len(permutation)\n",
    "    return sum(euclidean_distance(instance[permutation[i]], instance[permutation[(i+1) % n]]) for i in range(len(permutation)))"
   ]
  },
  {
   "cell_type": "code",
   "execution_count": 20,
   "metadata": {
    "collapsed": true,
    "deletable": true,
    "editable": true
   },
   "outputs": [],
   "source": [
    "# input -- [(x1, y1), (x2, y2)]\n",
    "# output -- nearest neighbour algo vertices sequence\n",
    "def solve_tsp_nearest_neighbour(instance: list):\n",
    "    n = len(instance)\n",
    "    def w(i, j):\n",
    "        return euclidean_distance(instance[i], instance[j])\n",
    "    \n",
    "    not_visited = np.array(range(1, n))\n",
    "    answer = np.array([0])\n",
    "    \n",
    "    for i in range(1, n):\n",
    "        distances = np.array([w(answer[-1], not_visited[j]) for j in range(n - i)])\n",
    "        min_i = np.argmin(distances)\n",
    "        answer = np.insert(answer, i, not_visited[min_i])\n",
    "        not_visited = np.delete(not_visited, min_i)\n",
    "    \n",
    "    return answer"
   ]
  },
  {
   "cell_type": "code",
   "execution_count": 112,
   "metadata": {
    "collapsed": false,
    "deletable": true,
    "editable": true
   },
   "outputs": [],
   "source": [
    "def solve_tsp_nearest_insertion(instance):\n",
    "    instance = np.array([list(pt) for pt in instance])\n",
    "    \n",
    "    n = len(instance)\n",
    "    if n == 1:\n",
    "        return [0]\n",
    "    \n",
    "    def w(i, j):\n",
    "        return euclidean_distance(instance[i], instance[j])\n",
    "    \n",
    "    cycle = np.array([0])\n",
    "    not_visited = np.array(range(1, n))\n",
    "    \n",
    "    for cycle_len in range(1, n):\n",
    "        in_cycle = instance[cycle].T\n",
    "        not_in_cycle = instance[not_visited].T\n",
    "        \n",
    "        A1 = np.tile(in_cycle, n - cycle_len).reshape((2, n - cycle_len, cycle_len))\n",
    "        A1 = np.array([x.T for x in A1])\n",
    "        \n",
    "        B1 = np.tile(not_in_cycle, cycle_len).reshape((2, cycle_len, n - cycle_len))\n",
    "        D = np.sqrt((A1[0] - B1[0]) ** 2 + (A1[1] - B1[1]) ** 2)\n",
    "        dist_v_u1_v_u2 = D + np.roll(D, 1, axis=0)\n",
    "        neigh_dist_in_cycle = np.array([w(cycle[i - 1], cycle[i]) for i in range(cycle_len)])\n",
    "        M = dist_v_u1_v_u2.T - neigh_dist_in_cycle\n",
    "        \n",
    "        optimal = np.argmin(M)\n",
    "        cycle_edge_i, i_not_in_cycle = optimal % cycle_len, optimal // cycle_len\n",
    "        \n",
    "        cycle = np.insert(cycle, cycle_edge_i, not_visited[i_not_in_cycle])\n",
    "        not_visited = np.delete(not_visited, i_not_in_cycle)\n",
    "    \n",
    "    assert(len(cycle) == n)\n",
    "    return cycle\n",
    "        "
   ]
  },
  {
   "cell_type": "code",
   "execution_count": 115,
   "metadata": {
    "collapsed": false,
    "deletable": true,
    "editable": true
   },
   "outputs": [],
   "source": [
    "def run_all():\n",
    "    instance_filenames = ['d198.tsp', 'd493.tsp', 'd657.tsp', 'd2103.tsp', 'pr107.tsp', 'pr152.tsp', 'pr439.tsp']\n",
    "    for filename in instance_filenames:\n",
    "        path = 'tsp-instances/{file}'.format(file=filename)\n",
    "        if not os.path.exists(path):\n",
    "            print('File not found: “{}”. Skipping this instance.'.format(path))\n",
    "            continue\n",
    "        instance = read_tsp_instance(path)\n",
    "        print('Solving instance {}…\\n'.format(filename), end='')\n",
    "        time_start = time.monotonic()\n",
    "        quality_nn = calculate_tour_length(instance, solve_tsp_nearest_neighbour(instance))\n",
    "        time_nn = time.monotonic()-time_start\n",
    "        time_start = time.monotonic()\n",
    "        quality_ni = calculate_tour_length(instance, solve_tsp_nearest_insertion(instance))\n",
    "        time_ni = time.monotonic()-time_start\n",
    "        print(' done \\n NN: {:.2} seconds, Tour length {} \\n NI: {:.2} seconds, Tour length {}'.format(time_nn, int(quality_nn), time_ni, int(quality_ni)))"
   ]
  },
  {
   "cell_type": "code",
   "execution_count": 116,
   "metadata": {
    "collapsed": false
   },
   "outputs": [
    {
     "name": "stdout",
     "output_type": "stream",
     "text": [
      "Solving instance d198.tsp…\n",
      " done \n",
      " NN: 0.058 seconds, Tour length 18620 \n",
      " NI: 0.085 seconds, Tour length 17631\n",
      "Solving instance d493.tsp…\n",
      " done \n",
      " NN: 0.19 seconds, Tour length 43646 \n",
      " NI: 0.75 seconds, Tour length 39982\n",
      "Solving instance d657.tsp…\n",
      " done \n",
      " NN: 0.34 seconds, Tour length 62176 \n",
      " NI: 1.7 seconds, Tour length 57906\n",
      "Solving instance d2103.tsp…\n",
      " done \n",
      " NN: 3.0 seconds, Tour length 87468 \n",
      " NI: 6.9e+01 seconds, Tour length 87570\n",
      "Solving instance pr107.tsp…\n",
      " done \n",
      " NN: 0.012 seconds, Tour length 46678 \n",
      " NI: 0.028 seconds, Tour length 52587\n",
      "Solving instance pr152.tsp…\n",
      " done \n",
      " NN: 0.021 seconds, Tour length 85702 \n",
      " NI: 0.051 seconds, Tour length 88530\n",
      "Solving instance pr439.tsp…\n",
      " done \n",
      " NN: 0.15 seconds, Tour length 131282 \n",
      " NI: 0.51 seconds, Tour length 130067\n"
     ]
    }
   ],
   "source": [
    "run_all()"
   ]
  },
  {
   "cell_type": "markdown",
   "metadata": {
    "collapsed": true,
    "deletable": true,
    "editable": true
   },
   "source": [
    "## Выводы\n",
    "Как видно по результатам запусков, нельзя заранее сказать, какой алгоритм сработает лучше, однако в большинстве случаев Nearest Insertion работает лучше, но цена тому -- более сложная асимптотика -- $O(n^3)$, вместо $O(n^2)$ у Nearest Neightbour"
   ]
  }
 ],
 "metadata": {
  "kernelspec": {
   "display_name": "Python 3",
   "language": "python",
   "name": "python3"
  },
  "language_info": {
   "codemirror_mode": {
    "name": "ipython",
    "version": 3
   },
   "file_extension": ".py",
   "mimetype": "text/x-python",
   "name": "python",
   "nbconvert_exporter": "python",
   "pygments_lexer": "ipython3",
   "version": "3.5.2"
  }
 },
 "nbformat": 4,
 "nbformat_minor": 2
}
