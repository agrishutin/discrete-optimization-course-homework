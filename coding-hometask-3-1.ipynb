{
 "cells": [
  {
   "cell_type": "markdown",
   "metadata": {
    "deletable": true,
    "editable": true
   },
   "source": [
    "# Задание по курсу «Дискретная оптимизация», МФТИ, весна 2017"
   ]
  },
  {
   "cell_type": "markdown",
   "metadata": {
    "collapsed": true,
    "deletable": true,
    "editable": true
   },
   "source": [
    "## Задача 3-1. Задача TSP: инкрементальные алгоритмы.\n",
    "\n",
    "В этой задаче Вам предлагается сравнить алгоритмы Nearest Neighbour и Nearest Insertion в задаче Euclidean TSP.\n",
    "\n",
    "**Даны:**\n",
    "* Координаты точек плоскости, являющихся вершинами графа.\n",
    "\n",
    "**Найти:**\n",
    "* Перестановку вершин, задающих минимальный по длине гамильтонов цикл в графе.\n",
    "\n",
    "Сделайте следующее:\n",
    "* Скачайте файл [`tsp-instances.zip`](https://github.com/dainiak/discrete-optimization-course/raw/master/tsp-instances.zip) и разархивируйте из него файлы со входами задачи TSP.\n",
    "* Реализуйте функции `solve_tsp_nearest_neighbour` и `solve_tsp_nearest_insertion`.\n",
    "* Запустите функцию `run_all()`, чтобы протестировать свой код и сравнить качество решений, получаемых Nearest Neighbour и Nearest Insertion. Сильно ли они отличаются? Запишите свои качественные выводы в 1-2 предложениях в последней ячейке ipynb-файла."
   ]
  },
  {
   "cell_type": "code",
   "execution_count": 62,
   "metadata": {
    "collapsed": true
   },
   "outputs": [],
   "source": [
    "import time\n",
    "import os\n",
    "import math"
   ]
  },
  {
   "cell_type": "code",
   "execution_count": 77,
   "metadata": {
    "collapsed": false,
    "deletable": true,
    "editable": true
   },
   "outputs": [],
   "source": [
    "def read_tsp_instance(path: str) -> list:\n",
    "    with open(path, 'r') as file:\n",
    "        coordinates = []\n",
    "        for line in file:\n",
    "            line = line.strip().lower()\n",
    "            if line.startswith('dimension'):\n",
    "                coordinates = [(0,0)] * int(line.split()[-1])\n",
    "            tokens = line.split()\n",
    "            if len(tokens) == 3 and tokens[0].isdecimal():\n",
    "                tokens = line.split()\n",
    "                coordinates[int(tokens[0])-1] = tuple(map(float, tokens[1:]))\n",
    "        return coordinates\n",
    "\n",
    "def euclidean_distance(point1: tuple, point2: tuple) -> float:\n",
    "    if len(point1) != len(point2):\n",
    "        raise ValueError(\"Points must have equal dimensions\")\n",
    "    \n",
    "    distance = 0\n",
    "    for j in range(len(point1)):\n",
    "        distance += (point1[j] - point2[j]) ** 2\n",
    "    return math.sqrt(distance)\n",
    "\n",
    "def calculate_tour_length(instance, permutation):\n",
    "    assert(len(instance) == len(permutation))\n",
    "    \n",
    "    n = len(permutation)\n",
    "    return sum(euclidean_distance(instance[permutation[i]], instance[permutation[(i+1) % n]]) for i in range(len(permutation)))"
   ]
  },
  {
   "cell_type": "code",
   "execution_count": 69,
   "metadata": {
    "collapsed": true,
    "deletable": true,
    "editable": true
   },
   "outputs": [],
   "source": [
    "# input -- [(x1, y1), (x2, y2)]\n",
    "# output -- nearest neighbour algo vertices sequence\n",
    "def solve_tsp_nearest_neighbour(instance: list):\n",
    "    not_visited = instance.copy()\n",
    "    answer = []\n",
    "    \n",
    "    cur_vertex = not_visited.pop(-1)\n",
    "    answer.append(instance.index(cur_vertex))\n",
    "    \n",
    "    for iteration_num in range(len(instance) - 1):\n",
    "        nearest_v = min(not_visited, key=lambda v: euclidean_distance(v, cur_vertex))\n",
    "        answer.append(instance.index(nearest_v))\n",
    "        not_visited.remove(nearest_v)\n",
    "        cur_vertex = nearest_v\n",
    "    \n",
    "    return answer"
   ]
  },
  {
   "cell_type": "code",
   "execution_count": 93,
   "metadata": {
    "collapsed": false,
    "deletable": true,
    "editable": true
   },
   "outputs": [],
   "source": [
    "def solve_tsp_nearest_insertion(instance):\n",
    "    n = len(instance)\n",
    "    if n == 1:\n",
    "        return [0]\n",
    "    \n",
    "    # cycle format: [v1, v2, ...., v_n, v1]\n",
    "    # returns (nearest vertex index, insertion index)\n",
    "    def closest_to_cycle(vertex_indices: list, cycle: list):\n",
    "        min_dist = math.inf\n",
    "        closest_i = -1\n",
    "        insertion_i = -1\n",
    "        \n",
    "        for edge_i, v1_i in enumerate(cycle[:-1]):\n",
    "            v2_i = cycle[edge_i + 1] \n",
    "            edge_w = euclidean_distance(instance[v1_i], instance[v2_i])\n",
    "            \n",
    "            for vertex_i in vertex_indices:\n",
    "                cur_dist = euclidean_distance(instance[v1_i], instance[vertex_i]) + \\\n",
    "                           euclidean_distance(instance[v2_i], instance[vertex_i]) - edge_w\n",
    "                \n",
    "                if cur_dist < min_dist:\n",
    "                    min_dist = cur_dist\n",
    "                    closest_i = vertex_i\n",
    "                    insertion_i = edge_i\n",
    "        \n",
    "        return closest_i, insertion_i\n",
    "\n",
    "    v0_i = 0\n",
    "    not_visited = list(range(1, n))\n",
    "    v1_i = min(not_visited, key=lambda i: euclidean_distance(instance[i], instance[v0_i]))\n",
    "    not_visited.remove(v1_i)\n",
    "    \n",
    "    cur_cycle = [v0_i, v1_i, v0_i]\n",
    "    \n",
    "    for iteration_num in range(len(instance) - 2):\n",
    "        nearest_vertex_i, insertion_i = closest_to_cycle(not_visited, cur_cycle)\n",
    "        cur_cycle = cur_cycle[:insertion_i + 1] + [nearest_vertex_i] + cur_cycle[insertion_i + 1:]\n",
    "        not_visited.remove(nearest_vertex_i)\n",
    "    \n",
    "    assert(len(cur_cycle) == len(instance) + 1)\n",
    "    return cur_cycle[:-1]"
   ]
  },
  {
   "cell_type": "code",
   "execution_count": 87,
   "metadata": {
    "collapsed": false,
    "deletable": true,
    "editable": true
   },
   "outputs": [],
   "source": [
    "def run_all():\n",
    "    instance_filenames = ['d198.tsp', 'd493.tsp', 'd657.tsp', 'd2103.tsp', 'pr107.tsp', 'pr152.tsp', 'pr439.tsp']\n",
    "    for filename in instance_filenames:\n",
    "        path = 'tsp-instances/{file}'.format(file=filename)\n",
    "        if not os.path.exists(path):\n",
    "            print('File not found: “{}”. Skipping this instance.'.format(path))\n",
    "            continue\n",
    "        instance = read_tsp_instance(path)\n",
    "        print('Solving instance {}…'.format(filename), end='')\n",
    "        time_start = time.monotonic()\n",
    "        quality_nn = calculate_tour_length(instance, solve_tsp_nearest_neighbour(instance))\n",
    "        time_nn = time.monotonic()-time_start\n",
    "        time_start = time.monotonic()\n",
    "        quality_ni = calculate_tour_length(instance, solve_tsp_nearest_insertion(instance))\n",
    "        time_ni = time.monotonic()-time_start\n",
    "        print(' done \\n NN: {:.2} seconds, Tour length {} \\n NI: {:.2} seconds, Tour length {}'.format(time_nn, int(quality_nn), time_ni, int(quality_ni)))"
   ]
  },
  {
   "cell_type": "code",
   "execution_count": 94,
   "metadata": {
    "collapsed": false,
    "deletable": true,
    "editable": true
   },
   "outputs": [
    {
     "name": "stdout",
     "output_type": "stream",
     "text": [
      "Solving instance d198.tsp… done \n",
      " NN: 0.042 seconds, Tour length 18830 \n",
      " NI: 2.8 seconds, Tour length 17631\n",
      "Solving instance d493.tsp… done \n",
      " NN: 0.14 seconds, Tour length 44160 \n",
      " NI: 4.2e+01 seconds, Tour length 39982\n",
      "Solving instance d657.tsp… done \n",
      " NN: 0.25 seconds, Tour length 62860 \n",
      " NI: 1.1e+02 seconds, Tour length 57906\n",
      "Solving instance d2103.tsp… done \n",
      " NN: 2.7 seconds, Tour length 92247 \n",
      " NI: 3.6e+03 seconds, Tour length 87665\n",
      "Solving instance pr107.tsp… done \n",
      " NN: 0.0073 seconds, Tour length 47464 \n",
      " NI: 0.48 seconds, Tour length 52587\n",
      "Solving instance pr152.tsp… done \n",
      " NN: 0.015 seconds, Tour length 85314 \n",
      " NI: 1.3 seconds, Tour length 87848\n",
      "Solving instance pr439.tsp… done \n",
      " NN: 0.12 seconds, Tour length 131702 \n",
      " NI: 3.2e+01 seconds, Tour length 130254\n"
     ]
    }
   ],
   "source": [
    "run_all()"
   ]
  },
  {
   "cell_type": "markdown",
   "metadata": {
    "collapsed": true,
    "deletable": true,
    "editable": true
   },
   "source": [
    "## Выводы\n",
    "Как и было доказано на лекции, алгоритм Nearest Insertion дает выгоднее ответ, что можно видеть на тестовых кейсах выше. Правда, плата за это -- асимптотическая сложность => увеличение времени работы(Сравните: час на кейсе с 2103 вершинами против 2.7 секунд)"
   ]
  },
  {
   "cell_type": "code",
   "execution_count": null,
   "metadata": {
    "collapsed": true
   },
   "outputs": [],
   "source": []
  }
 ],
 "metadata": {
  "kernelspec": {
   "display_name": "Python 3",
   "language": "python",
   "name": "python3"
  },
  "language_info": {
   "codemirror_mode": {
    "name": "ipython",
    "version": 3
   },
   "file_extension": ".py",
   "mimetype": "text/x-python",
   "name": "python",
   "nbconvert_exporter": "python",
   "pygments_lexer": "ipython3",
   "version": "3.5.2"
  }
 },
 "nbformat": 4,
 "nbformat_minor": 2
}
