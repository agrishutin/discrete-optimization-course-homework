{
 "cells": [
  {
   "cell_type": "markdown",
   "metadata": {
    "deletable": true,
    "editable": true
   },
   "source": [
    "# Задание по курсу «Дискретная оптимизация», МФТИ, весна 2017"
   ]
  },
  {
   "cell_type": "markdown",
   "metadata": {
    "deletable": true,
    "editable": true
   },
   "source": [
    "## Задача 2-2. Эвристика Кернигана—Лина\n",
    "\n",
    "В этой задаче Вам предлагается добавить к локальному поиска в задаче о сбалансированном разбиении графа эвристику Кернигана—Лина, когда мы, «застряв» в локальном минимуме, тем не менее пытаемся сделать несколько шагов из него, даже если они приводят к временному ухудшению. Надежда здесь на то, что после ухудшения может наступить заметное улучшение результата: нам удастся выпрыгнуть из локального оптимума. Мы рассматриваем безвесовый вариант задачи о разбиении с параметром балансировки $\\alpha=\\frac{1}{2}$:\n",
    "\n",
    "**Даны:**\n",
    "* $G=(V,E)$ — граф без весов на рёбрах\n",
    "\n",
    "**Найти:**\n",
    "* Разбиение $V=V'\\sqcup V''$, такое, что $V'=\\lfloor |V|/2 \\rfloor$ и число рёбер между $V'$ и $V''$ минимально возможное.\n",
    "\n",
    "Сделайте следующее:\n",
    "* Скачайте файл [`partition-instances.zip`](https://github.com/dainiak/discrete-optimization-course/raw/master/partition-instances.zip) и разархивируйте из него файлы со входами задачи.\n",
    "* Для каждого из графов найдите локальным поиском с эвристикой Кернигана—Лина локально минимальное (по количеству рёбер между частями) разбиение вершин графа на две части, мощности которых отличаются не более чем на единицу. \n",
    "* Реализуйте функцию `variable_depth_local_search`; она должна принимать на вход граф в формате, предоставляемом функцией `read_instance`, и возвращать найденное разбиение как множество вершин, лежащих в одной любой из двух компонент разбиения. Ваш локальный поиск должен начинаться с того разбиение, которое уже находится в переменной `starting_point`.\n",
    "* Подберите для каждого из четырёх входных графов глубину поиска так, чтобы он работал не более 60 секунд на Вашем компьютере, и сохраните информацию о подобранных параметрах и любые свои интересные наблюдения в отдельную ячейку настоящего ipynb-файла."
   ]
  },
  {
   "cell_type": "code",
   "execution_count": 1,
   "metadata": {
    "collapsed": true
   },
   "outputs": [],
   "source": [
    "import math"
   ]
  },
  {
   "cell_type": "code",
   "execution_count": 2,
   "metadata": {
    "collapsed": true,
    "deletable": true,
    "editable": true
   },
   "outputs": [],
   "source": [
    "def read_instance(filename):\n",
    "    with open(filename, 'r') as file:\n",
    "        n_vertices = int(file.readline().strip().split()[0])\n",
    "        vertices, edges = set(range(1, n_vertices + 1)), set()\n",
    "        for u in range(1, n_vertices + 1):\n",
    "            for v in map(int, file.readline().strip().split()):\n",
    "                edges.add((u,v))\n",
    "        return (vertices, edges)"
   ]
  },
  {
   "cell_type": "code",
   "execution_count": 126,
   "metadata": {
    "collapsed": true,
    "deletable": true,
    "editable": true
   },
   "outputs": [],
   "source": [
    "def cut_cost(L: set, R: set, edges:set) -> int:\n",
    "    ans = 0\n",
    "    for edge in edges:\n",
    "        v1, v2 = edge\n",
    "        if (v1 in L and v2 in R) or (v1 in R and v2 in L):\n",
    "            ans += 1\n",
    "    return ans\n",
    "\n",
    "# returns best local(1-dist area) partition\n",
    "def best_local(graph, L, R):\n",
    "    exchange_cost = [0 for i in range(len(graph[0]))]\n",
    "    for u, v in graph[1]:\n",
    "        if (u in L and v in R) or (u in R and v in L):\n",
    "            exchange_cost[u - 1] -= 1\n",
    "            exchange_cost[v - 1] -= 1\n",
    "        else:\n",
    "            exchange_cost[u - 1] += 1\n",
    "            exchange_cost[v - 1] += 1\n",
    "    \n",
    "    best_exchange_cost = math.inf\n",
    "    best_v1 = -1\n",
    "    best_v2 = -1\n",
    "    \n",
    "    for v1 in L:\n",
    "        for v2 in R:\n",
    "            is_edge = (v1, v2) in graph[1] or (v2, v1) in graph[1]\n",
    "            \n",
    "            cur_exchange_cost = exchange_cost[v1 - 1] + exchange_cost[v2 - 1] + 2 * is_edge\n",
    "            if cur_exchange_cost < best_exchange_cost:\n",
    "                best_exchange_cost = cur_exchange_cost\n",
    "                best_v1 = v1\n",
    "                best_v2 = v2\n",
    "    \n",
    "    best_L = L.copy()\n",
    "    best_R = R.copy()\n",
    "    \n",
    "    best_L.remove(best_v1)\n",
    "    best_L.add(best_v2)\n",
    "    best_R.remove(best_v2)\n",
    "    best_R.add(best_v1)\n",
    "    \n",
    "    return best_L, best_R\n",
    "            \n",
    "\n",
    "def variable_depth_local_search(graph: tuple, max_depth: int) -> set:\n",
    "    \n",
    "    vertices, edges = graph\n",
    "    n = len(vertices)\n",
    "    \n",
    "    starting_point = set(range(1, len(graph[0]) // 2 + 1))\n",
    "    L = starting_point\n",
    "    R = vertices - starting_point\n",
    "    \n",
    "    depth = 0\n",
    "    best_cut_cost = cut_cost(L, R, graph[1])\n",
    "    best_L = L\n",
    "    while depth < max_depth:\n",
    "        best_local_L, best_local_R = best_local(graph, L, R)\n",
    "        new_cut_cost = cut_cost(best_local_L, best_local_R, edges)\n",
    "        if new_cut_cost >= best_cut_cost:\n",
    "            depth += 1\n",
    "        else:\n",
    "            best_cut_cost = new_cut_cost\n",
    "            depth = 0\n",
    "            best_L = best_local_L\n",
    "        L = best_local_L\n",
    "        R = best_local_R\n",
    "    \n",
    "    return best_L"
   ]
  },
  {
   "cell_type": "code",
   "execution_count": 127,
   "metadata": {
    "collapsed": false,
    "deletable": true,
    "editable": true
   },
   "outputs": [],
   "source": [
    "import time\n",
    "\n",
    "def get_quality(graph, partition_part):\n",
    "    if not (partition_part <= graph[0]) or abs(len(partition_part) - len(graph[0]) / 2) > 0.6:\n",
    "        return -1\n",
    "    other_part = set(graph[0]) - partition_part\n",
    "    return sum(1 for edge in graph[1] if set(edge) <= partition_part or set(edge) <= other_part )\n",
    "\n",
    "def run_all():\n",
    "    filenames = ['add20.graph', 'cti.graph', 't60k.graph', 'm14b.graph']\n",
    "    max_depths = [2, 2, 2, 2]\n",
    "    for filename, max_depth in zip(filenames, max_depths):\n",
    "        instance = read_instance(filename)\n",
    "        print('Solving instance {}…'.format(filename), end='')\n",
    "        time_start = time.monotonic()\n",
    "        \n",
    "        quality = get_quality(instance, variable_depth_local_search(instance, max_depth))\n",
    "        \n",
    "        time_elapsed = time.monotonic() - time_start\n",
    "        print(' done in {:.2} seconds with quality {}'.format(time_elapsed, quality))"
   ]
  },
  {
   "cell_type": "code",
   "execution_count": null,
   "metadata": {
    "collapsed": true
   },
   "outputs": [],
   "source": [
    "run_all()"
   ]
  },
  {
   "cell_type": "code",
   "execution_count": 128,
   "metadata": {
    "collapsed": false
   },
   "outputs": [
    {
     "name": "stdout",
     "output_type": "stream",
     "text": [
      "Solving instance add20.graph… done in 2.6e+02 seconds with quality 12790\n"
     ]
    }
   ],
   "source": [
    "filename = 'add20.graph'\n",
    "max_depth = 2\n",
    "\n",
    "instance = read_instance(filename)\n",
    "print('Solving instance {}…'.format(filename), end='')\n",
    "time_start = time.monotonic()\n",
    "\n",
    "quality = get_quality(instance, variable_depth_local_search(instance, max_depth))\n",
    "\n",
    "time_elapsed = time.monotonic() - time_start\n",
    "print(' done in {:.2} seconds with quality {}'.format(time_elapsed, quality))"
   ]
  },
  {
   "cell_type": "code",
   "execution_count": 132,
   "metadata": {
    "collapsed": false,
    "deletable": true,
    "editable": true,
    "scrolled": true
   },
   "outputs": [
    {
     "name": "stdout",
     "output_type": "stream",
     "text": [
      "Solving instance cti.graph… done in 2.8e+02 seconds with quality 94080\n"
     ]
    }
   ],
   "source": [
    "filename = 'cti.graph'\n",
    "max_depth = 2\n",
    "\n",
    "instance = read_instance(filename)\n",
    "print('Solving instance {}…'.format(filename), end='')\n",
    "time_start = time.monotonic()\n",
    "\n",
    "quality = get_quality(instance, variable_depth_local_search(instance, max_depth))\n",
    "\n",
    "time_elapsed = time.monotonic() - time_start\n",
    "print(' done in {:.2} seconds with quality {}'.format(time_elapsed, quality))"
   ]
  },
  {
   "cell_type": "code",
   "execution_count": null,
   "metadata": {
    "collapsed": true
   },
   "outputs": [],
   "source": [
    "filename = 't60k.graph'\n",
    "max_depth = 2\n",
    "\n",
    "instance = read_instance(filename)\n",
    "print('Solving instance {}…'.format(filename), end='')\n",
    "time_start = time.monotonic()\n",
    "\n",
    "quality = get_quality(instance, variable_depth_local_search(instance, max_depth))\n",
    "\n",
    "time_elapsed = time.monotonic() - time_start\n",
    "print(' done in {:.2} seconds with quality {}'.format(time_elapsed, quality))"
   ]
  },
  {
   "cell_type": "code",
   "execution_count": 130,
   "metadata": {
    "collapsed": false
   },
   "outputs": [
    {
     "name": "stdout",
     "output_type": "stream",
     "text": [
      "Solving instance m14b.graph…"
     ]
    },
    {
     "ename": "KeyboardInterrupt",
     "evalue": "",
     "output_type": "error",
     "traceback": [
      "\u001b[0;31m---------------------------------------------------------------------------\u001b[0m",
      "\u001b[0;31mKeyboardInterrupt\u001b[0m                         Traceback (most recent call last)",
      "\u001b[0;32m<ipython-input-130-c1f43880f7f2>\u001b[0m in \u001b[0;36m<module>\u001b[0;34m()\u001b[0m\n\u001b[1;32m      6\u001b[0m \u001b[0mtime_start\u001b[0m \u001b[0;34m=\u001b[0m \u001b[0mtime\u001b[0m\u001b[0;34m.\u001b[0m\u001b[0mmonotonic\u001b[0m\u001b[0;34m(\u001b[0m\u001b[0;34m)\u001b[0m\u001b[0;34m\u001b[0m\u001b[0m\n\u001b[1;32m      7\u001b[0m \u001b[0;34m\u001b[0m\u001b[0m\n\u001b[0;32m----> 8\u001b[0;31m \u001b[0mquality\u001b[0m \u001b[0;34m=\u001b[0m \u001b[0mget_quality\u001b[0m\u001b[0;34m(\u001b[0m\u001b[0minstance\u001b[0m\u001b[0;34m,\u001b[0m \u001b[0mvariable_depth_local_search\u001b[0m\u001b[0;34m(\u001b[0m\u001b[0minstance\u001b[0m\u001b[0;34m,\u001b[0m \u001b[0mmax_depth\u001b[0m\u001b[0;34m)\u001b[0m\u001b[0;34m)\u001b[0m\u001b[0;34m\u001b[0m\u001b[0m\n\u001b[0m\u001b[1;32m      9\u001b[0m \u001b[0;34m\u001b[0m\u001b[0m\n\u001b[1;32m     10\u001b[0m \u001b[0mtime_elapsed\u001b[0m \u001b[0;34m=\u001b[0m \u001b[0mtime\u001b[0m\u001b[0;34m.\u001b[0m\u001b[0mmonotonic\u001b[0m\u001b[0;34m(\u001b[0m\u001b[0;34m)\u001b[0m \u001b[0;34m-\u001b[0m \u001b[0mtime_start\u001b[0m\u001b[0;34m\u001b[0m\u001b[0m\n",
      "\u001b[0;32m<ipython-input-126-d21954e00d74>\u001b[0m in \u001b[0;36mvariable_depth_local_search\u001b[0;34m(graph, max_depth)\u001b[0m\n\u001b[1;32m     56\u001b[0m     \u001b[0mbest_L\u001b[0m \u001b[0;34m=\u001b[0m \u001b[0mL\u001b[0m\u001b[0;34m\u001b[0m\u001b[0m\n\u001b[1;32m     57\u001b[0m     \u001b[0;32mwhile\u001b[0m \u001b[0mdepth\u001b[0m \u001b[0;34m<\u001b[0m \u001b[0mmax_depth\u001b[0m\u001b[0;34m:\u001b[0m\u001b[0;34m\u001b[0m\u001b[0m\n\u001b[0;32m---> 58\u001b[0;31m         \u001b[0mbest_local_L\u001b[0m\u001b[0;34m,\u001b[0m \u001b[0mbest_local_R\u001b[0m \u001b[0;34m=\u001b[0m \u001b[0mbest_local\u001b[0m\u001b[0;34m(\u001b[0m\u001b[0mgraph\u001b[0m\u001b[0;34m,\u001b[0m \u001b[0mL\u001b[0m\u001b[0;34m,\u001b[0m \u001b[0mR\u001b[0m\u001b[0;34m)\u001b[0m\u001b[0;34m\u001b[0m\u001b[0m\n\u001b[0m\u001b[1;32m     59\u001b[0m         \u001b[0mnew_cut_cost\u001b[0m \u001b[0;34m=\u001b[0m \u001b[0mcut_cost\u001b[0m\u001b[0;34m(\u001b[0m\u001b[0mbest_local_L\u001b[0m\u001b[0;34m,\u001b[0m \u001b[0mbest_local_R\u001b[0m\u001b[0;34m,\u001b[0m \u001b[0medges\u001b[0m\u001b[0;34m)\u001b[0m\u001b[0;34m\u001b[0m\u001b[0m\n\u001b[1;32m     60\u001b[0m         \u001b[0;32mif\u001b[0m \u001b[0mnew_cut_cost\u001b[0m \u001b[0;34m>=\u001b[0m \u001b[0mbest_cut_cost\u001b[0m\u001b[0;34m:\u001b[0m\u001b[0;34m\u001b[0m\u001b[0m\n",
      "\u001b[0;32m<ipython-input-126-d21954e00d74>\u001b[0m in \u001b[0;36mbest_local\u001b[0;34m(graph, L, R)\u001b[0m\n\u001b[1;32m     23\u001b[0m \u001b[0;34m\u001b[0m\u001b[0m\n\u001b[1;32m     24\u001b[0m     \u001b[0;32mfor\u001b[0m \u001b[0mv1\u001b[0m \u001b[0;32min\u001b[0m \u001b[0mL\u001b[0m\u001b[0;34m:\u001b[0m\u001b[0;34m\u001b[0m\u001b[0m\n\u001b[0;32m---> 25\u001b[0;31m         \u001b[0;32mfor\u001b[0m \u001b[0mv2\u001b[0m \u001b[0;32min\u001b[0m \u001b[0mR\u001b[0m\u001b[0;34m:\u001b[0m\u001b[0;34m\u001b[0m\u001b[0m\n\u001b[0m\u001b[1;32m     26\u001b[0m             \u001b[0mis_edge\u001b[0m \u001b[0;34m=\u001b[0m \u001b[0;34m(\u001b[0m\u001b[0mv1\u001b[0m\u001b[0;34m,\u001b[0m \u001b[0mv2\u001b[0m\u001b[0;34m)\u001b[0m \u001b[0;32min\u001b[0m \u001b[0mgraph\u001b[0m\u001b[0;34m[\u001b[0m\u001b[0;36m1\u001b[0m\u001b[0;34m]\u001b[0m \u001b[0;32mor\u001b[0m \u001b[0;34m(\u001b[0m\u001b[0mv2\u001b[0m\u001b[0;34m,\u001b[0m \u001b[0mv1\u001b[0m\u001b[0;34m)\u001b[0m \u001b[0;32min\u001b[0m \u001b[0mgraph\u001b[0m\u001b[0;34m[\u001b[0m\u001b[0;36m1\u001b[0m\u001b[0;34m]\u001b[0m\u001b[0;34m\u001b[0m\u001b[0m\n\u001b[1;32m     27\u001b[0m \u001b[0;34m\u001b[0m\u001b[0m\n",
      "\u001b[0;31mKeyboardInterrupt\u001b[0m: "
     ]
    }
   ],
   "source": [
    "filename = 'm14b.graph'\n",
    "max_depth = 2\n",
    "\n",
    "instance = read_instance(filename)\n",
    "print('Solving instance {}…'.format(filename), end='')\n",
    "time_start = time.monotonic()\n",
    "\n",
    "quality = get_quality(instance, variable_depth_local_search(instance, max_depth))\n",
    "\n",
    "time_elapsed = time.monotonic() - time_start\n",
    "print(' done in {:.2} seconds with quality {}'.format(time_elapsed, quality))"
   ]
  },
  {
   "cell_type": "markdown",
   "metadata": {
    "deletable": true,
    "editable": true
   },
   "source": [
    "## Выводы\n",
    "(Здесь опишите свои наблюдения и подобранные параметры для каждогр из четырёх входных графов.)"
   ]
  }
 ],
 "metadata": {
  "kernelspec": {
   "display_name": "Python 3",
   "language": "python",
   "name": "python3"
  },
  "language_info": {
   "codemirror_mode": {
    "name": "ipython",
    "version": 3
   },
   "file_extension": ".py",
   "mimetype": "text/x-python",
   "name": "python",
   "nbconvert_exporter": "python",
   "pygments_lexer": "ipython3",
   "version": "3.5.2"
  }
 },
 "nbformat": 4,
 "nbformat_minor": 2
}
