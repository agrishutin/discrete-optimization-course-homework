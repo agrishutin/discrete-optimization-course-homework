{
 "cells": [
  {
   "cell_type": "markdown",
   "metadata": {
    "deletable": true,
    "editable": true
   },
   "source": [
    "## Задача 5-1. A\\* поиск в задаче о кратчайших путях.\n",
    "\n",
    "В этой задаче Вам предлагается реализовать поиск кратчайших путей в графе с помощью A\\*-поиска с использованием эвристической функции («потенциала»), основанном на landmarks. Теоретические основы можно посмотреть [здесь](http://logic.pdmi.ras.ru/midas/sites/default/files/midas-werneck.pdf), слайды 20—36.\n",
    "\n",
    "Вам предлагается скачать [отсюда](http://www.diag.uniroma1.it/challenge9/download.shtml) файлы “Travel time graph” и “Coordinates” для штата Флорида. Для Вашего удобства они также размещены в архиве `florida.7z` в настоящем репозитории на GitHub.\n",
    "\n",
    "Функции `read_node_coords` и `read_arcs` возвращают соответственно координаты вершин графа (отнормированные; координаты нужны только для обеспечения возможности выбора landmarks “по периметру графа”) и структура дуг графа."
   ]
  },
  {
   "cell_type": "code",
   "execution_count": 12,
   "metadata": {
    "collapsed": false
   },
   "outputs": [],
   "source": [
    "import math\n",
    "from typing import List, Dict, Tuple\n",
    "from collections import namedtuple, defaultdict\n",
    "\n",
    "from heapdict import *\n",
    "\n",
    "import matplotlib.pyplot as plt\n",
    "import numpy as np\n",
    "\n",
    "from tqdm import *"
   ]
  },
  {
   "cell_type": "code",
   "execution_count": 2,
   "metadata": {
    "collapsed": true,
    "deletable": true,
    "editable": true
   },
   "outputs": [],
   "source": [
    "\n",
    "Coords = namedtuple('Coords', ['x', 'y'])\n",
    "\n",
    "def read_node_coords(filename='USA-road-d.FLA.co') -> List[Coords]:\n",
    "    node_coords = []\n",
    "    \n",
    "    with open(filename, 'r') as coord_file:\n",
    "        for line in coord_file:\n",
    "            if line.startswith('v '):\n",
    "                node_number, x, y = map(int, line.split()[1:])\n",
    "                node_coords.append(Coords(x, y))\n",
    "    \n",
    "    minx = min(c.x for c in node_coords)\n",
    "    miny = min(c.y for c in node_coords)\n",
    "    for i, c in enumerate(node_coords):\n",
    "        node_coords[i] = Coords(c.x-minx, c.y-miny)\n",
    "    \n",
    "    return node_coords\n",
    "\n",
    "\n",
    "def read_arcs(filename='USA-road-t.FLA.gr') -> Dict[int, Dict[int, float]]:\n",
    "    adjacency_lists = defaultdict(dict)\n",
    "    \n",
    "    with open(filename, 'r') as coord_file:\n",
    "        for line in coord_file:\n",
    "            if line.startswith('a '):\n",
    "                node_from, node_to, weight = map(int, line.split()[1:])\n",
    "                adjacency_lists[node_from-1][node_to-1] = weight\n",
    "                \n",
    "    return adjacency_lists"
   ]
  },
  {
   "cell_type": "markdown",
   "metadata": {
    "deletable": true,
    "editable": true
   },
   "source": [
    "Реализуйте процедуру `good_old_dijkstra`, которая для пары номеров вершин графа ищет кратчайший путь между ними и возвращает список номеров вершин, образующих оптимальный путь и его длину."
   ]
  },
  {
   "cell_type": "code",
   "execution_count": 14,
   "metadata": {
    "collapsed": false,
    "deletable": true,
    "editable": true
   },
   "outputs": [],
   "source": [
    "def good_old_dijkstra(adjacency_lists: Dict[int, Dict[int, float]], \n",
    "                      node_from: int, node_to=None) -> Tuple[List[int], float]:\n",
    "    \"\"\"\n",
    "        calculate distance in graph with positive costs of edges\n",
    "        if node_to is None, Dict(node_i: dist) is returned -- used for efficient\n",
    "        landmarks precalculations\n",
    "    \"\"\"\n",
    "    not_used = heapdict()\n",
    "    dist = defaultdict(lambda: math.inf)\n",
    "    prev = defaultdict(lambda: -1)\n",
    "    \n",
    "    for key in adjacency_lists.keys():\n",
    "        not_used[key] = math.inf\n",
    "    \n",
    "    not_used[node_from] = 0\n",
    "    dist[node_from] = 0\n",
    "    prev[node_from] = node_from\n",
    "    \n",
    "    def select_minimal_not_used():\n",
    "        return not_used.popitem()[0]\n",
    "    \n",
    "    for _ in range(len(adjacency_lists)):\n",
    "        cur_v = select_minimal_not_used()\n",
    "        for to in adjacency_lists[cur_v].keys():\n",
    "            w = adjacency_lists[cur_v][to]\n",
    "            \n",
    "            new_d = dist[cur_v] + w\n",
    "            if new_d < dist[to]:\n",
    "                dist[to] = new_d\n",
    "                not_used[to] = new_d\n",
    "                prev[to] = cur_v\n",
    "    \n",
    "    if node_to != None:\n",
    "        assert dist[node_to] != math.inf\n",
    "\n",
    "        path = [node_to]\n",
    "        cur = node_to\n",
    "        while prev[cur] != cur:\n",
    "            cur = prev[cur]\n",
    "            path.append(cur)\n",
    "\n",
    "        return (path[::-1], dist[node_to])\n",
    "    else:\n",
    "        return dist"
   ]
  },
  {
   "cell_type": "markdown",
   "metadata": {
    "deletable": true,
    "editable": true
   },
   "source": [
    "Реализуйте тройку процедур `choose_landmarks`, `precalculate_landmark_distances` и `a_star_with_landmarks`. Процедура `choose_landmarks` выбирает нужное количество специальных вершин графа — этот выбор делается равномерным выбором по периметру графа (см. слайд 30 в [презентации](http://logic.pdmi.ras.ru/midas/sites/default/files/midas-werneck.pdf)). Процедура `precalculate_landmark_distances` для каждой вершины из заданного набора с помощью обычного алгоритма Дейкстры вычисляет расстояния до всех вершин графа. Эта информация затем используется в `a_star_with_landmarks` для ускорения поиска кратчайшего пути."
   ]
  },
  {
   "cell_type": "code",
   "execution_count": 45,
   "metadata": {
    "collapsed": false
   },
   "outputs": [],
   "source": [
    "node_coords = read_node_coords()\n",
    "nodes_x = []\n",
    "nodes_y = []\n",
    "for coord in node_coords:\n",
    "    nodes_x.append(coord.x)\n",
    "    nodes_y.append(coord.y)\n",
    "\n",
    "\n",
    "nodes_x = np.array(nodes_x)\n",
    "nodes_y = np.array(nodes_y)"
   ]
  },
  {
   "cell_type": "code",
   "execution_count": 53,
   "metadata": {
    "collapsed": true
   },
   "outputs": [],
   "source": [
    "# 15 точек равномерно по периметру, брал на глазок\n",
    "approx_landmarks = [(6000000,       0), (6000000,  900000), (5000000, 2200000), \n",
    "                    (4500000, 4400000), (3000000, 5000000), (2000000, 5100000),\n",
    "                    (1000000, 5500000), (      0, 5500000), (2000000, 6200000),\n",
    "                    (4000000, 6200000), (5200000, 5700000), (6000000, 6000000),\n",
    "                    (6600000, 4400000), (7100000, 3000000), (7300000, 700000)]\n",
    "\n",
    "precise_landmarks = [-1 for i in range(len(approx_landmarks))]\n",
    "d = [math.inf for i in range(len(approx_landmarks))]\n",
    "\n",
    "for node_i, coord in enumerate(node_coords):\n",
    "    x, y = coord.x, coord.y\n",
    "    for i in range(len(approx_landmarks)):\n",
    "        x1, y1 = approx_landmarks[i]\n",
    "        cur_dist = (x - x1) ** 2 + (y - y1) ** 2\n",
    "        if cur_dist < d[i]:\n",
    "            d[i] = cur_dist\n",
    "            precise_landmarks[i] = node_i"
   ]
  },
  {
   "cell_type": "code",
   "execution_count": 54,
   "metadata": {
    "collapsed": false
   },
   "outputs": [
    {
     "data": {
      "image/png": "[encoded data removed]",
      "text/plain": [
       "<matplotlib.figure.Figure at 0x7f55aa400b38>"
      ]
     },
     "metadata": {},
     "output_type": "display_data"
    }
   ],
   "source": [
    "plt.figure(figsize=(10, 10)).add_subplot(1,1,1)\n",
    "\n",
    "plt.scatter(nodes_x, nodes_y)\n",
    "for landmark_i in precise_landmarks:\n",
    "    plt.scatter(nodes_x[landmark_i], nodes_y[landmark_i], color='red', label='landmarks')\n",
    "\n",
    "plt.show()"
   ]
  },
  {
   "cell_type": "code",
   "execution_count": 35,
   "metadata": {
    "collapsed": false
   },
   "outputs": [],
   "source": []
  },
  {
   "cell_type": "code",
   "execution_count": 20,
   "metadata": {
    "collapsed": false,
    "deletable": true,
    "editable": true
   },
   "outputs": [],
   "source": [
    "def choose_landmarks(input_node_coords: List[Coords], num_landmarks=15) -> List[int]:\n",
    "    # =========================================================================================\n",
    "    def coords2nparray(node_coords: List[Coords]):\n",
    "        ret = []\n",
    "        for node in node_coords:\n",
    "            ret.append((node.x, node.y))\n",
    "        \n",
    "        return np.array(ret)\n",
    "    \n",
    "    def polar_coordinates_with_center(center: Coords, node: Coords) -> Tuple[float, float]:\n",
    "        dx = node.x - center.x\n",
    "        dy = node.y - center.y\n",
    "        phi = math.atan2(dx, dy)\n",
    "        if phi < 0:\n",
    "            phi += 2 * math.pi\n",
    "        \n",
    "        return phi, math.hypot(dx, dy)\n",
    "    # =========================================================================================\n",
    "    \n",
    "    node_coords = coords2nparray(input_node_coords)\n",
    "    center = Coords(np.mean(node_coords[:, 0]), np.mean(node_coords[:, 1]))\n",
    "    \n",
    "    # =========================================================================================\n",
    "    \n",
    "    angle_bounds = [2 * math.pi * i / num_landmarks for i in range(num_landmarks)]\n",
    "    \n",
    "    # (distance from center to node in sector -> max, node index) \n",
    "    sector_landmarks = [(-math.inf, -1) for i in range(num_landmarks)]\n",
    "    \n",
    "    for i, node in tqdm(enumerate(input_node_coords)):\n",
    "        phi, dist = polar_coordinates_with_center(center, input_node_coords[i])\n",
    "        sector_num = int(phi * num_landmarks / (2 * math.pi))\n",
    "        if dist > sector_landmarks[sector_num][0]:\n",
    "            sector_landmarks[sector_num] = (dist, i)\n",
    "    \n",
    "    return [sector_landmarks[i][1] for i in range(num_landmarks)]\n",
    "    \n",
    "def precalculate_landmark_distances(landmarks: List[int],\n",
    "                                    adj_lists: Dict[int, Dict[int, float]]) -> Dict[int, Dict[int, float]]:\n",
    "    \n",
    "    landmarks_dist = defaultdict(lambda: defaultdict(float))\n",
    "    \n",
    "    for landmark_i in tqdm(landmarks):\n",
    "        print(landmark_i)\n",
    "        landmarks_dist[landmark_i] = good_old_dijkstra(adj_lists, landmark_i)\n",
    "    \n",
    "    return landmarks_dist\n",
    "\n",
    "def a_star_with_landmarks(adjacency_lists: Dict[int, Dict[int, float]], \n",
    "                          node_from, node_to, \n",
    "                          landmark_distances: Dict[int, Dict[int, float]]) -> Tuple[List[int], float]:\n",
    "    \"\"\"\n",
    "    https://en.wikipedia.org/wiki/A*_search_algorithm\n",
    "    Адаптация псевдокода из этой статьи под питон\n",
    "    с некоторыми изменениями для того, чтобы все работало хоть немного оптимально\n",
    "    \"\"\"\n",
    "    \n",
    "    # по-хорошему надо было найти лэндмарку,\n",
    "    # наиболее близкую к прямой, содержащей node_to и cur_v\n",
    "    # но для нее просто достигается максимум разностей расстояний до node_to и до cur_v\n",
    "    # так что возьмем за эвристику именно это расстояние\n",
    "    # (на самом деле мне просто лень работать с геометрией)\n",
    "    def heuristic_dist(cur_v_i: int, node_to_i: int):\n",
    "        d = 0\n",
    "        for lm_i in landmark_distances.keys():\n",
    "            d = max(d, abs(landmark_distances[lm_i][node_to_i] - landmark_distances[lm_i][cur_v_i]))\n",
    "        \n",
    "        return d\n",
    "    \n",
    "    processed = set()\n",
    "    \n",
    "    processing = heapdict()\n",
    "    # fscore = defaultdict(lambda: math.inf) -- хранится в ключе кучи для элемента\n",
    "    prev = defaultdict(lambda: -1)\n",
    "    gscore = defaultdict(lambda: math.inf)\n",
    "    \n",
    "    # ===========================Инициализация=====================================\n",
    "    \n",
    "    processing[node_from] = heuristic_dist(node_from, node_to)\n",
    "    \n",
    "    for node_i in adjacency_lists:\n",
    "        processing[node_i] = math.inf\n",
    "    \n",
    "    gscore[node_from] = 0\n",
    "    fscore[node_from] = heuristic_dist(node_from, node_to)\n",
    "    \n",
    "    prev[node_from] = node_from\n",
    "    \n",
    "    while processing:\n",
    "        cur_node, cur_fscore = processing.popitem()\n",
    "        \n",
    "        if cur_node == node_to:\n",
    "            break\n",
    "        \n",
    "        processed.add(cur_node)\n",
    "        \n",
    "        for neighbor in adjacency_lists[cur_node]:\n",
    "            if neighbor in processed:\n",
    "                continue\n",
    "            \n",
    "            tentative_gscore = gscore[cur_node] + adjacency_lists[cur_node][neighbor]\n",
    "            if processing[neighbor] > tentative_gscore:\n",
    "                prev[neighbor] = cur_node\n",
    "                gscore[neighbor] = tentative_gscore\n",
    "                processing[neighbor] = gscore[neighbor] + heuristic_dist(neighbor, node_to)\n",
    "    \n",
    "    dist = 0.0\n",
    "    cur_v = node_to\n",
    "    path = [cur_v]\n",
    "    while prev[cur_v] != cur_v:\n",
    "        dist += adj_lists[prev[cur_v]][cur_v]\n",
    "        cur_v = prev[cur_v]\n",
    "        path.append(cur_v)\n",
    "    \n",
    "    return path[::-1], dist\n",
    "                "
   ]
  },
  {
   "cell_type": "code",
   "execution_count": 16,
   "metadata": {
    "collapsed": false
   },
   "outputs": [
    {
     "name": "stdout",
     "output_type": "stream",
     "text": [
      "5813957 6116942\n",
      "6124077 5349513\n",
      "6708284 3999281\n",
      "6973096 3575325\n",
      "7287874 2403435\n",
      "7343412 784851\n",
      "6841122 10617\n",
      "5804279 1027613\n",
      "5036462 2228503\n",
      "4772831 2792427\n",
      "4669532 3180956\n",
      "4792236 3488099\n",
      "1827 6106888\n",
      "2452740 6117146\n",
      "4175823 6110368\n"
     ]
    },
    {
     "name": "stderr",
     "output_type": "stream",
     "text": [
      "/usr/local/lib/python3.5/dist-packages/matplotlib/axes/_axes.py:545: UserWarning: No labelled objects found. Use label='...' kwarg on individual plots.\n",
      "  warnings.warn(\"No labelled objects found. \"\n"
     ]
    },
    {
     "data": {
      "image/png": "[encoded data removed]",
      "text/plain": [
       "<matplotlib.figure.Figure at 0x7f966ba84c50>"
      ]
     },
     "metadata": {},
     "output_type": "display_data"
    }
   ],
   "source": [
    "# посмотрим на наши лэндмарки (зачем? просто так)\n",
    "\n",
    "node_coords = read_node_coords()\n",
    "nodes_x = []\n",
    "nodes_y = []\n",
    "for coord in node_coords:\n",
    "    nodes_x.append(coord.x)\n",
    "    nodes_y.append(coord.y)\n",
    "\n",
    "\n",
    "nodes_x = np.array(nodes_x)\n",
    "nodes_y = np.array(nodes_y)\n",
    "\n",
    "landmarks = choose_landmarks(node_coords)\n",
    "# ============================================================\n",
    "\n",
    "plt.figure(figsize=(10, 10))\n",
    "\n",
    "plt.scatter(nodes_x, nodes_y)\n",
    "\n",
    "for lm_i in landmarks:\n",
    "    lm = node_coords[lm_i]\n",
    "    print(lm.x, lm.y)\n",
    "    plt.scatter(lm.x, lm.y, color='red')\n",
    "\n",
    "plt.legend(loc='best')\n",
    "plt.show()"
   ]
  },
  {
   "cell_type": "code",
   "execution_count": 19,
   "metadata": {
    "collapsed": false,
    "deletable": true,
    "editable": true
   },
   "outputs": [
    {
     "name": "stderr",
     "output_type": "stream",
     "text": [
      "1070376it [00:02, 456131.48it/s]\n",
      "100%|██████████| 15/15 [34:41<00:00, 225.28s/it]\n",
      "  0%|          | 0/100 [00:00<?, ?it/s]"
     ]
    },
    {
     "name": "stdout",
     "output_type": "stream",
     "text": [
      "Precalculation done in 2.1e+03 seconds.\n"
     ]
    },
    {
     "ename": "NameError",
     "evalue": "name 'u' is not defined",
     "output_type": "error",
     "traceback": [
      "\u001b[0;31m---------------------------------------------------------------------------\u001b[0m",
      "\u001b[0;31mNameError\u001b[0m                                 Traceback (most recent call last)",
      "\u001b[0;32m<ipython-input-19-386548ad946f>\u001b[0m in \u001b[0;36m<module>\u001b[0;34m()\u001b[0m\n\u001b[1;32m     27\u001b[0m     \u001b[0mprint\u001b[0m\u001b[0;34m(\u001b[0m\u001b[0;34m'Time elapsed in {} test: {:.2} second for A* vs. {:.2} seconds for Dijkstra.'\u001b[0m\u001b[0;34m.\u001b[0m\u001b[0mformat\u001b[0m\u001b[0;34m(\u001b[0m\u001b[0mnum_tests\u001b[0m\u001b[0;34m,\u001b[0m \u001b[0mtime_a_star\u001b[0m\u001b[0;34m,\u001b[0m \u001b[0mtime_dijkstra\u001b[0m\u001b[0;34m)\u001b[0m\u001b[0;34m)\u001b[0m\u001b[0;34m\u001b[0m\u001b[0m\n\u001b[1;32m     28\u001b[0m \u001b[0;34m\u001b[0m\u001b[0m\n\u001b[0;32m---> 29\u001b[0;31m \u001b[0mrun_all\u001b[0m\u001b[0;34m(\u001b[0m\u001b[0;34m)\u001b[0m\u001b[0;34m\u001b[0m\u001b[0m\n\u001b[0m",
      "\u001b[0;32m<ipython-input-19-386548ad946f>\u001b[0m in \u001b[0;36mrun_all\u001b[0;34m()\u001b[0m\n\u001b[1;32m     22\u001b[0m         \u001b[0mtime_dijkstra\u001b[0m \u001b[0;34m+=\u001b[0m \u001b[0mtime\u001b[0m\u001b[0;34m.\u001b[0m\u001b[0mmonotonic\u001b[0m\u001b[0;34m(\u001b[0m\u001b[0;34m)\u001b[0m\u001b[0;34m-\u001b[0m\u001b[0mtime_start\u001b[0m\u001b[0;34m\u001b[0m\u001b[0m\n\u001b[1;32m     23\u001b[0m         \u001b[0mtime_start\u001b[0m \u001b[0;34m=\u001b[0m \u001b[0mtime\u001b[0m\u001b[0;34m.\u001b[0m\u001b[0mmonotonic\u001b[0m\u001b[0;34m(\u001b[0m\u001b[0;34m)\u001b[0m\u001b[0;34m\u001b[0m\u001b[0m\n\u001b[0;32m---> 24\u001b[0;31m         \u001b[0ma_star_with_landmarks\u001b[0m\u001b[0;34m(\u001b[0m\u001b[0madjacency_lists\u001b[0m\u001b[0;34m,\u001b[0m \u001b[0mnode_from\u001b[0m\u001b[0;34m,\u001b[0m \u001b[0mnode_to\u001b[0m\u001b[0;34m,\u001b[0m \u001b[0mlandmark_distances\u001b[0m\u001b[0;34m)\u001b[0m\u001b[0;34m\u001b[0m\u001b[0m\n\u001b[0m\u001b[1;32m     25\u001b[0m         \u001b[0mtime_a_star\u001b[0m \u001b[0;34m+=\u001b[0m \u001b[0mtime\u001b[0m\u001b[0;34m.\u001b[0m\u001b[0mmonotonic\u001b[0m\u001b[0;34m(\u001b[0m\u001b[0;34m)\u001b[0m\u001b[0;34m-\u001b[0m\u001b[0mtime_start\u001b[0m\u001b[0;34m\u001b[0m\u001b[0m\n\u001b[1;32m     26\u001b[0m \u001b[0;34m\u001b[0m\u001b[0m\n",
      "\u001b[0;32m<ipython-input-15-ee157f1f7a70>\u001b[0m in \u001b[0;36ma_star_with_landmarks\u001b[0;34m(adjacency_lists, node_from, node_to, landmark_distances)\u001b[0m\n\u001b[1;32m     76\u001b[0m     \u001b[0;31m# ===========================Инициализация=====================================\u001b[0m\u001b[0;34m\u001b[0m\u001b[0;34m\u001b[0m\u001b[0m\n\u001b[1;32m     77\u001b[0m \u001b[0;34m\u001b[0m\u001b[0m\n\u001b[0;32m---> 78\u001b[0;31m     \u001b[0mprocessing\u001b[0m\u001b[0;34m[\u001b[0m\u001b[0mnode_from\u001b[0m\u001b[0;34m]\u001b[0m \u001b[0;34m=\u001b[0m \u001b[0mheuristic_dist\u001b[0m\u001b[0;34m(\u001b[0m\u001b[0mnode_from\u001b[0m\u001b[0;34m,\u001b[0m \u001b[0mnode_to\u001b[0m\u001b[0;34m)\u001b[0m\u001b[0;34m\u001b[0m\u001b[0m\n\u001b[0m\u001b[1;32m     79\u001b[0m \u001b[0;34m\u001b[0m\u001b[0m\n\u001b[1;32m     80\u001b[0m     \u001b[0;32mfor\u001b[0m \u001b[0mnode_i\u001b[0m \u001b[0;32min\u001b[0m \u001b[0madjacency_lists\u001b[0m\u001b[0;34m:\u001b[0m\u001b[0;34m\u001b[0m\u001b[0m\n",
      "\u001b[0;32m<ipython-input-15-ee157f1f7a70>\u001b[0m in \u001b[0;36mheuristic_dist\u001b[0;34m(cur_v_i, node_to_i)\u001b[0m\n\u001b[1;32m     63\u001b[0m         \u001b[0md\u001b[0m \u001b[0;34m=\u001b[0m \u001b[0;36m0\u001b[0m\u001b[0;34m\u001b[0m\u001b[0m\n\u001b[1;32m     64\u001b[0m         \u001b[0;32mfor\u001b[0m \u001b[0mlm_i\u001b[0m \u001b[0;32min\u001b[0m \u001b[0mlandmark_distances\u001b[0m\u001b[0;34m.\u001b[0m\u001b[0mkeys\u001b[0m\u001b[0;34m(\u001b[0m\u001b[0;34m)\u001b[0m\u001b[0;34m:\u001b[0m\u001b[0;34m\u001b[0m\u001b[0m\n\u001b[0;32m---> 65\u001b[0;31m             \u001b[0md\u001b[0m \u001b[0;34m=\u001b[0m \u001b[0mmax\u001b[0m\u001b[0;34m(\u001b[0m\u001b[0md\u001b[0m\u001b[0;34m,\u001b[0m \u001b[0mabs\u001b[0m\u001b[0;34m(\u001b[0m\u001b[0mlandmark_distances\u001b[0m\u001b[0;34m[\u001b[0m\u001b[0mlm_i\u001b[0m\u001b[0;34m]\u001b[0m\u001b[0;34m[\u001b[0m\u001b[0mnode_to\u001b[0m\u001b[0;34m]\u001b[0m \u001b[0;34m-\u001b[0m \u001b[0mlandmark_distances\u001b[0m\u001b[0;34m[\u001b[0m\u001b[0mlm_i\u001b[0m\u001b[0;34m]\u001b[0m\u001b[0;34m[\u001b[0m\u001b[0mu\u001b[0m\u001b[0;34m]\u001b[0m\u001b[0;34m)\u001b[0m\u001b[0;34m)\u001b[0m\u001b[0;34m\u001b[0m\u001b[0m\n\u001b[0m\u001b[1;32m     66\u001b[0m \u001b[0;34m\u001b[0m\u001b[0m\n\u001b[1;32m     67\u001b[0m         \u001b[0;32mreturn\u001b[0m \u001b[0md\u001b[0m\u001b[0;34m\u001b[0m\u001b[0m\n",
      "\u001b[0;31mNameError\u001b[0m: name 'u' is not defined"
     ]
    }
   ],
   "source": [
    "import time\n",
    "from random import randrange\n",
    "\n",
    "def run_all():\n",
    "    node_coords = read_node_coords()\n",
    "    \n",
    "    adjacency_lists = read_arcs()\n",
    "    num_nodes = len(node_coords)\n",
    "    \n",
    "    time_start = time.monotonic()\n",
    "    landmark_distances = precalculate_landmark_distances(choose_landmarks(node_coords), adjacency_lists)\n",
    "    print('Precalculation done in {:.2} seconds.'.format(time.monotonic() - time_start))\n",
    "    \n",
    "    time_dijkstra = 0\n",
    "    time_a_star = 0\n",
    "    \n",
    "    num_tests = 100\n",
    "    for _ in trange(num_tests):\n",
    "        node_from, node_to = randrange(num_nodes), randrange(num_nodes)\n",
    "        time_start = time.monotonic()\n",
    "        good_old_dijkstra(adjacency_lists, node_from, node_to)\n",
    "        time_dijkstra += time.monotonic()-time_start\n",
    "        time_start = time.monotonic()\n",
    "        a_star_with_landmarks(adjacency_lists, node_from, node_to, landmark_distances)\n",
    "        time_a_star += time.monotonic()-time_start\n",
    "    \n",
    "    print('Time elapsed in {} test: {:.2} second for A* vs. {:.2} seconds for Dijkstra.'.format(num_tests, time_a_star, time_dijkstra))\n",
    "\n",
    "run_all()"
   ]
  },
  {
   "cell_type": "code",
   "execution_count": null,
   "metadata": {
    "collapsed": true
   },
   "outputs": [],
   "source": [
    "time_dijkstra = 0\n",
    "time_a_star = 0\n",
    "\n",
    "num_tests = 100\n",
    "for _ in trange(num_tests):\n",
    "    node_from, node_to = randrange(num_nodes), randrange(num_nodes)\n",
    "    time_start = time.monotonic()\n",
    "    good_old_dijkstra(adjacency_lists, node_from, node_to)\n",
    "    time_dijkstra += time.monotonic()-time_start\n",
    "    time_start = time.monotonic()\n",
    "    a_star_with_landmarks(adjacency_lists, node_from, node_to, landmark_distances)\n",
    "    time_a_star += time.monotonic()-time_start\n",
    "\n",
    "print('Time elapsed in {} test: {:.2} second for A* vs. {:.2} seconds for Dijkstra.'.format(num_tests, time_a_star, time_dijkstra))\n"
   ]
  },
  {
   "cell_type": "markdown",
   "metadata": {},
   "source": [
    "** Вот сейчас обидно было. До дедлайна остается 7 минут, и я боюсь, что на перезапуск у меня времени нет :(. heapdict был не лучшим выбором, надо было научиться докручивать к heapq.heapq метод decrease_key, чтобы работать с ним.  **"
   ]
  },
  {
   "cell_type": "code",
   "execution_count": null,
   "metadata": {
    "collapsed": true
   },
   "outputs": [],
   "source": []
  }
 ],
 "metadata": {
  "kernelspec": {
   "display_name": "Python 3",
   "language": "python",
   "name": "python3"
  },
  "language_info": {
   "codemirror_mode": {
    "name": "ipython",
    "version": 3
   },
   "file_extension": ".py",
   "mimetype": "text/x-python",
   "name": "python",
   "nbconvert_exporter": "python",
   "pygments_lexer": "ipython3",
   "version": "3.5.2"
  }
 },
 "nbformat": 4,
 "nbformat_minor": 1
}
